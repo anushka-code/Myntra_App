{
  "nbformat": 4,
  "nbformat_minor": 0,
  "metadata": {
    "colab": {
      "name": "Retailer_DataAnalytics.ipynb",
      "provenance": [],
      "authorship_tag": "ABX9TyPeu0PDFwRQXCRyS/7uxmZb",
      "include_colab_link": true
    },
    "kernelspec": {
      "name": "python3",
      "display_name": "Python 3"
    },
    "language_info": {
      "name": "python"
    }
  },
  "cells": [
    {
      "cell_type": "markdown",
      "metadata": {
        "id": "view-in-github",
        "colab_type": "text"
      },
      "source": [
        "<a href=\"https://colab.research.google.com/github/sakshi170920/Myntra_App/blob/main/Retailer_DataAnalytics.ipynb\" target=\"_parent\"><img src=\"https://colab.research.google.com/assets/colab-badge.svg\" alt=\"Open In Colab\"/></a>"
      ]
    },
    {
      "cell_type": "markdown",
      "metadata": {
        "id": "pONKWSZwXKn_"
      },
      "source": [
        "# **CUSTOMER BEHAVIOUS ANALYTICS**"
      ]
    },
    {
      "cell_type": "markdown",
      "metadata": {
        "id": "2o4qg9taH4Z3"
      },
      "source": [
        "## We aim to help the retailers by providing data insights on\n",
        "\n",
        "Customer Behaviour based on a dataset including fields like events (add to cart, transaction, view), unique itemid and timestamp (which records when the event took place) giving several insights on view time, number of transactions, purchase decision factors, etc\n"
      ]
    },
    {
      "cell_type": "code",
      "metadata": {
        "id": "RCZbuVvTVmXF"
      },
      "source": [
        "import pandas as pd \n",
        "import numpy as np\n",
        "import datetime\n",
        "import matplotlib.pyplot as plt\n",
        "%matplotlib inline"
      ],
      "execution_count": 10,
      "outputs": []
    },
    {
      "cell_type": "markdown",
      "metadata": {
        "id": "ReuS29dQjuBO"
      },
      "source": [
        "**Exploratory Data Analysis** "
      ]
    },
    {
      "cell_type": "code",
      "metadata": {
        "colab": {
          "resources": {
            "http://localhost:8080/nbextensions/google.colab/files.js": {
              "data": "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",
              "ok": true,
              "headers": [
                [
                  "content-type",
                  "application/javascript"
                ]
              ],
              "status": 200,
              "status_text": ""
            }
          },
          "base_uri": "https://localhost:8080/",
          "height": 73
        },
        "id": "wcc_vCFKl_eH",
        "outputId": "237df96f-3f9b-45be-c02e-a8bcc7e3422b"
      },
      "source": [
        "from google.colab import files\n",
        "uploaded = files.upload()"
      ],
      "execution_count": 8,
      "outputs": [
        {
          "output_type": "display_data",
          "data": {
            "text/html": [
              "\n",
              "     <input type=\"file\" id=\"files-cdce860e-468b-4a65-824c-6ef1d1a99fb0\" name=\"files[]\" multiple disabled\n",
              "        style=\"border:none\" />\n",
              "     <output id=\"result-cdce860e-468b-4a65-824c-6ef1d1a99fb0\">\n",
              "      Upload widget is only available when the cell has been executed in the\n",
              "      current browser session. Please rerun this cell to enable.\n",
              "      </output>\n",
              "      <script src=\"/nbextensions/google.colab/files.js\"></script> "
            ],
            "text/plain": [
              "<IPython.core.display.HTML object>"
            ]
          },
          "metadata": {
            "tags": []
          }
        },
        {
          "output_type": "stream",
          "text": [
            "Saving events.csv to events.csv\n"
          ],
          "name": "stdout"
        }
      ]
    },
    {
      "cell_type": "code",
      "metadata": {
        "colab": {
          "base_uri": "https://localhost:8080/",
          "height": 202
        },
        "id": "Fa5IHO4QPGrB",
        "outputId": "e4919e1a-5c5e-43ce-bd69-4392d286ef15"
      },
      "source": [
        "edf=pd.read_csv(\"events.csv\")\n",
        "edf.head()"
      ],
      "execution_count": 11,
      "outputs": [
        {
          "output_type": "execute_result",
          "data": {
            "text/html": [
              "<div>\n",
              "<style scoped>\n",
              "    .dataframe tbody tr th:only-of-type {\n",
              "        vertical-align: middle;\n",
              "    }\n",
              "\n",
              "    .dataframe tbody tr th {\n",
              "        vertical-align: top;\n",
              "    }\n",
              "\n",
              "    .dataframe thead th {\n",
              "        text-align: right;\n",
              "    }\n",
              "</style>\n",
              "<table border=\"1\" class=\"dataframe\">\n",
              "  <thead>\n",
              "    <tr style=\"text-align: right;\">\n",
              "      <th></th>\n",
              "      <th>timestamp</th>\n",
              "      <th>visitorid</th>\n",
              "      <th>event</th>\n",
              "      <th>itemid</th>\n",
              "      <th>transactionid</th>\n",
              "    </tr>\n",
              "  </thead>\n",
              "  <tbody>\n",
              "    <tr>\n",
              "      <th>0</th>\n",
              "      <td>1.433220e+12</td>\n",
              "      <td>257597</td>\n",
              "      <td>view</td>\n",
              "      <td>355908</td>\n",
              "      <td>NaN</td>\n",
              "    </tr>\n",
              "    <tr>\n",
              "      <th>1</th>\n",
              "      <td>1.433220e+12</td>\n",
              "      <td>992329</td>\n",
              "      <td>view</td>\n",
              "      <td>248676</td>\n",
              "      <td>NaN</td>\n",
              "    </tr>\n",
              "    <tr>\n",
              "      <th>2</th>\n",
              "      <td>1.433220e+12</td>\n",
              "      <td>111016</td>\n",
              "      <td>view</td>\n",
              "      <td>318965</td>\n",
              "      <td>NaN</td>\n",
              "    </tr>\n",
              "    <tr>\n",
              "      <th>3</th>\n",
              "      <td>1.433220e+12</td>\n",
              "      <td>483717</td>\n",
              "      <td>view</td>\n",
              "      <td>253185</td>\n",
              "      <td>NaN</td>\n",
              "    </tr>\n",
              "    <tr>\n",
              "      <th>4</th>\n",
              "      <td>1.433220e+12</td>\n",
              "      <td>951259</td>\n",
              "      <td>view</td>\n",
              "      <td>367447</td>\n",
              "      <td>NaN</td>\n",
              "    </tr>\n",
              "  </tbody>\n",
              "</table>\n",
              "</div>"
            ],
            "text/plain": [
              "      timestamp  visitorid event  itemid  transactionid\n",
              "0  1.433220e+12     257597  view  355908            NaN\n",
              "1  1.433220e+12     992329  view  248676            NaN\n",
              "2  1.433220e+12     111016  view  318965            NaN\n",
              "3  1.433220e+12     483717  view  253185            NaN\n",
              "4  1.433220e+12     951259  view  367447            NaN"
            ]
          },
          "metadata": {
            "tags": []
          },
          "execution_count": 11
        }
      ]
    },
    {
      "cell_type": "code",
      "metadata": {
        "colab": {
          "base_uri": "https://localhost:8080/"
        },
        "id": "cAon0aIbR0Rh",
        "outputId": "19a6d90c-295f-414c-c890-1c7924721a78"
      },
      "source": [
        "edf.shape[0] #number of user activities"
      ],
      "execution_count": null,
      "outputs": [
        {
          "output_type": "execute_result",
          "data": {
            "text/plain": [
              "1048575"
            ]
          },
          "metadata": {
            "tags": []
          },
          "execution_count": 5
        }
      ]
    },
    {
      "cell_type": "code",
      "metadata": {
        "colab": {
          "base_uri": "https://localhost:8080/"
        },
        "id": "K_r822YVTSCz",
        "outputId": "3fd3cc76-400c-4248-ecbd-d1cacbdf886f"
      },
      "source": [
        "edf.isnull().value_counts() #missing values in each column"
      ],
      "execution_count": null,
      "outputs": [
        {
          "output_type": "execute_result",
          "data": {
            "text/plain": [
              "timestamp  visitorid  event  itemid  transactionid\n",
              "False      False      False  False   True             1039921\n",
              "                                     False               8654\n",
              "dtype: int64"
            ]
          },
          "metadata": {
            "tags": []
          },
          "execution_count": 8
        }
      ]
    },
    {
      "cell_type": "code",
      "metadata": {
        "colab": {
          "base_uri": "https://localhost:8080/"
        },
        "id": "iWGNZUaYTuLI",
        "outputId": "c2bb915a-30fd-4326-a944-5fcbc04a4302"
      },
      "source": [
        "edf['event'].unique() #types of events "
      ],
      "execution_count": null,
      "outputs": [
        {
          "output_type": "execute_result",
          "data": {
            "text/plain": [
              "array(['view', 'addtocart', 'transaction'], dtype=object)"
            ]
          },
          "metadata": {
            "tags": []
          },
          "execution_count": 9
        }
      ]
    },
    {
      "cell_type": "code",
      "metadata": {
        "colab": {
          "base_uri": "https://localhost:8080/"
        },
        "id": "sFCZqylgT0Pg",
        "outputId": "ab2e031b-8c84-4344-bed2-2d2c1b4a6138"
      },
      "source": [
        "edf.transactionid[edf.event=='transaction'].isnull().value_counts() #checking missing transactionID"
      ],
      "execution_count": null,
      "outputs": [
        {
          "output_type": "execute_result",
          "data": {
            "text/plain": [
              "False    8654\n",
              "Name: transactionid, dtype: int64"
            ]
          },
          "metadata": {
            "tags": []
          },
          "execution_count": 12
        }
      ]
    },
    {
      "cell_type": "code",
      "metadata": {
        "colab": {
          "base_uri": "https://localhost:8080/"
        },
        "id": "9Tze-uN9UTmW",
        "outputId": "a9e8c4f3-ff80-4626-9a1d-7a47b33146c5"
      },
      "source": [
        "edf.event.value_counts() #count of each event"
      ],
      "execution_count": null,
      "outputs": [
        {
          "output_type": "execute_result",
          "data": {
            "text/plain": [
              "view           1013165\n",
              "addtocart        26756\n",
              "transaction       8654\n",
              "Name: event, dtype: int64"
            ]
          },
          "metadata": {
            "tags": []
          },
          "execution_count": 40
        }
      ]
    },
    {
      "cell_type": "code",
      "metadata": {
        "colab": {
          "base_uri": "https://localhost:8080/"
        },
        "id": "dx9rSujMUdJk",
        "outputId": "da63228b-f1ec-4cf5-cbbb-bc324eea98c7"
      },
      "source": [
        "samp = edf.duplicated() #removing duplicates\n",
        "edf = edf[~samp]\n",
        "edf.reset_index(drop=True, inplace=True)\n",
        "edf.shape[0] # 1048575 was the original number"
      ],
      "execution_count": null,
      "outputs": [
        {
          "output_type": "execute_result",
          "data": {
            "text/plain": [
              "912411"
            ]
          },
          "metadata": {
            "tags": []
          },
          "execution_count": 22
        }
      ]
    },
    {
      "cell_type": "code",
      "metadata": {
        "colab": {
          "base_uri": "https://localhost:8080/",
          "height": 355
        },
        "id": "XE3rmKklXm4s",
        "outputId": "b73cab64-2769-4160-baf7-18b74f46f96a"
      },
      "source": [
        "edf.head(10)"
      ],
      "execution_count": null,
      "outputs": [
        {
          "output_type": "execute_result",
          "data": {
            "text/html": [
              "<div>\n",
              "<style scoped>\n",
              "    .dataframe tbody tr th:only-of-type {\n",
              "        vertical-align: middle;\n",
              "    }\n",
              "\n",
              "    .dataframe tbody tr th {\n",
              "        vertical-align: top;\n",
              "    }\n",
              "\n",
              "    .dataframe thead th {\n",
              "        text-align: right;\n",
              "    }\n",
              "</style>\n",
              "<table border=\"1\" class=\"dataframe\">\n",
              "  <thead>\n",
              "    <tr style=\"text-align: right;\">\n",
              "      <th></th>\n",
              "      <th>event</th>\n",
              "      <th>itemid</th>\n",
              "    </tr>\n",
              "  </thead>\n",
              "  <tbody>\n",
              "    <tr>\n",
              "      <th>0</th>\n",
              "      <td>view</td>\n",
              "      <td>355908</td>\n",
              "    </tr>\n",
              "    <tr>\n",
              "      <th>1</th>\n",
              "      <td>view</td>\n",
              "      <td>248676</td>\n",
              "    </tr>\n",
              "    <tr>\n",
              "      <th>2</th>\n",
              "      <td>view</td>\n",
              "      <td>318965</td>\n",
              "    </tr>\n",
              "    <tr>\n",
              "      <th>3</th>\n",
              "      <td>view</td>\n",
              "      <td>253185</td>\n",
              "    </tr>\n",
              "    <tr>\n",
              "      <th>4</th>\n",
              "      <td>view</td>\n",
              "      <td>367447</td>\n",
              "    </tr>\n",
              "    <tr>\n",
              "      <th>5</th>\n",
              "      <td>view</td>\n",
              "      <td>22556</td>\n",
              "    </tr>\n",
              "    <tr>\n",
              "      <th>6</th>\n",
              "      <td>view</td>\n",
              "      <td>443030</td>\n",
              "    </tr>\n",
              "    <tr>\n",
              "      <th>7</th>\n",
              "      <td>view</td>\n",
              "      <td>439202</td>\n",
              "    </tr>\n",
              "    <tr>\n",
              "      <th>8</th>\n",
              "      <td>view</td>\n",
              "      <td>428805</td>\n",
              "    </tr>\n",
              "    <tr>\n",
              "      <th>9</th>\n",
              "      <td>view</td>\n",
              "      <td>82389</td>\n",
              "    </tr>\n",
              "  </tbody>\n",
              "</table>\n",
              "</div>"
            ],
            "text/plain": [
              "  event  itemid\n",
              "0  view  355908\n",
              "1  view  248676\n",
              "2  view  318965\n",
              "3  view  253185\n",
              "4  view  367447\n",
              "5  view   22556\n",
              "6  view  443030\n",
              "7  view  439202\n",
              "8  view  428805\n",
              "9  view   82389"
            ]
          },
          "metadata": {
            "tags": []
          },
          "execution_count": 39
        }
      ]
    },
    {
      "cell_type": "markdown",
      "metadata": {
        "id": "kC7zSMSdcGZw"
      },
      "source": [
        "To know when is the data recorded from we convert the unix timestamp to datetime (which is a module imported above)"
      ]
    },
    {
      "cell_type": "markdown",
      "metadata": {
        "id": "b3GMWz7psSsS"
      },
      "source": [
        "**Retailers get to know the exact date and time of the view, addtocart and transaction events**"
      ]
    },
    {
      "cell_type": "code",
      "metadata": {
        "colab": {
          "base_uri": "https://localhost:8080/",
          "height": 662
        },
        "id": "CiSl8TJeYZ-M",
        "outputId": "31e8a5cc-ad73-4f4c-d7a3-313b49746017"
      },
      "source": [
        "list=[]\n",
        "for i, unix in enumerate(edf['timestamp']):\n",
        "    timestamp, ms = divmod(unix, 1000)\n",
        "\n",
        "    # create the datetime from the timestamp \n",
        "    # add the milliseconds separately\n",
        "    dt = datetime.datetime.fromtimestamp(timestamp) + datetime.timedelta(milliseconds=ms)\n",
        "\n",
        "    formatted_time = dt.strftime('%Y-%m-%d %H:%M:%S.%f')[:-3]\n",
        "    list.append(formatted_time)\n",
        "\n",
        "edf['date_time']=pd.DataFrame({'date_time':list})\n",
        "edf.head(20)"
      ],
      "execution_count": 15,
      "outputs": [
        {
          "output_type": "execute_result",
          "data": {
            "text/html": [
              "<div>\n",
              "<style scoped>\n",
              "    .dataframe tbody tr th:only-of-type {\n",
              "        vertical-align: middle;\n",
              "    }\n",
              "\n",
              "    .dataframe tbody tr th {\n",
              "        vertical-align: top;\n",
              "    }\n",
              "\n",
              "    .dataframe thead th {\n",
              "        text-align: right;\n",
              "    }\n",
              "</style>\n",
              "<table border=\"1\" class=\"dataframe\">\n",
              "  <thead>\n",
              "    <tr style=\"text-align: right;\">\n",
              "      <th></th>\n",
              "      <th>timestamp</th>\n",
              "      <th>visitorid</th>\n",
              "      <th>event</th>\n",
              "      <th>itemid</th>\n",
              "      <th>transactionid</th>\n",
              "      <th>date_time</th>\n",
              "    </tr>\n",
              "  </thead>\n",
              "  <tbody>\n",
              "    <tr>\n",
              "      <th>0</th>\n",
              "      <td>1.433220e+12</td>\n",
              "      <td>257597</td>\n",
              "      <td>view</td>\n",
              "      <td>355908</td>\n",
              "      <td>NaN</td>\n",
              "      <td>2015-06-02 04:40:00.000</td>\n",
              "    </tr>\n",
              "    <tr>\n",
              "      <th>1</th>\n",
              "      <td>1.433220e+12</td>\n",
              "      <td>992329</td>\n",
              "      <td>view</td>\n",
              "      <td>248676</td>\n",
              "      <td>NaN</td>\n",
              "      <td>2015-06-02 04:40:00.000</td>\n",
              "    </tr>\n",
              "    <tr>\n",
              "      <th>2</th>\n",
              "      <td>1.433220e+12</td>\n",
              "      <td>111016</td>\n",
              "      <td>view</td>\n",
              "      <td>318965</td>\n",
              "      <td>NaN</td>\n",
              "      <td>2015-06-02 04:40:00.000</td>\n",
              "    </tr>\n",
              "    <tr>\n",
              "      <th>3</th>\n",
              "      <td>1.433220e+12</td>\n",
              "      <td>483717</td>\n",
              "      <td>view</td>\n",
              "      <td>253185</td>\n",
              "      <td>NaN</td>\n",
              "      <td>2015-06-02 04:40:00.000</td>\n",
              "    </tr>\n",
              "    <tr>\n",
              "      <th>4</th>\n",
              "      <td>1.433220e+12</td>\n",
              "      <td>951259</td>\n",
              "      <td>view</td>\n",
              "      <td>367447</td>\n",
              "      <td>NaN</td>\n",
              "      <td>2015-06-02 04:40:00.000</td>\n",
              "    </tr>\n",
              "    <tr>\n",
              "      <th>5</th>\n",
              "      <td>1.433220e+12</td>\n",
              "      <td>972639</td>\n",
              "      <td>view</td>\n",
              "      <td>22556</td>\n",
              "      <td>NaN</td>\n",
              "      <td>2015-06-02 04:40:00.000</td>\n",
              "    </tr>\n",
              "    <tr>\n",
              "      <th>6</th>\n",
              "      <td>1.433220e+12</td>\n",
              "      <td>810725</td>\n",
              "      <td>view</td>\n",
              "      <td>443030</td>\n",
              "      <td>NaN</td>\n",
              "      <td>2015-06-02 04:40:00.000</td>\n",
              "    </tr>\n",
              "    <tr>\n",
              "      <th>7</th>\n",
              "      <td>1.433220e+12</td>\n",
              "      <td>794181</td>\n",
              "      <td>view</td>\n",
              "      <td>439202</td>\n",
              "      <td>NaN</td>\n",
              "      <td>2015-06-02 04:40:00.000</td>\n",
              "    </tr>\n",
              "    <tr>\n",
              "      <th>8</th>\n",
              "      <td>1.433220e+12</td>\n",
              "      <td>824915</td>\n",
              "      <td>view</td>\n",
              "      <td>428805</td>\n",
              "      <td>NaN</td>\n",
              "      <td>2015-06-02 04:40:00.000</td>\n",
              "    </tr>\n",
              "    <tr>\n",
              "      <th>9</th>\n",
              "      <td>1.433220e+12</td>\n",
              "      <td>339335</td>\n",
              "      <td>view</td>\n",
              "      <td>82389</td>\n",
              "      <td>NaN</td>\n",
              "      <td>2015-06-02 04:40:00.000</td>\n",
              "    </tr>\n",
              "    <tr>\n",
              "      <th>10</th>\n",
              "      <td>1.433220e+12</td>\n",
              "      <td>176446</td>\n",
              "      <td>view</td>\n",
              "      <td>10572</td>\n",
              "      <td>NaN</td>\n",
              "      <td>2015-06-02 04:40:00.000</td>\n",
              "    </tr>\n",
              "    <tr>\n",
              "      <th>11</th>\n",
              "      <td>1.433220e+12</td>\n",
              "      <td>929206</td>\n",
              "      <td>view</td>\n",
              "      <td>410676</td>\n",
              "      <td>NaN</td>\n",
              "      <td>2015-06-02 04:40:00.000</td>\n",
              "    </tr>\n",
              "    <tr>\n",
              "      <th>12</th>\n",
              "      <td>1.433220e+12</td>\n",
              "      <td>15795</td>\n",
              "      <td>view</td>\n",
              "      <td>44872</td>\n",
              "      <td>NaN</td>\n",
              "      <td>2015-06-02 04:40:00.000</td>\n",
              "    </tr>\n",
              "    <tr>\n",
              "      <th>13</th>\n",
              "      <td>1.433220e+12</td>\n",
              "      <td>598426</td>\n",
              "      <td>view</td>\n",
              "      <td>156489</td>\n",
              "      <td>NaN</td>\n",
              "      <td>2015-06-02 04:40:00.000</td>\n",
              "    </tr>\n",
              "    <tr>\n",
              "      <th>14</th>\n",
              "      <td>1.433220e+12</td>\n",
              "      <td>223343</td>\n",
              "      <td>view</td>\n",
              "      <td>402625</td>\n",
              "      <td>NaN</td>\n",
              "      <td>2015-06-02 04:40:00.000</td>\n",
              "    </tr>\n",
              "    <tr>\n",
              "      <th>15</th>\n",
              "      <td>1.433220e+12</td>\n",
              "      <td>57036</td>\n",
              "      <td>view</td>\n",
              "      <td>334662</td>\n",
              "      <td>NaN</td>\n",
              "      <td>2015-06-02 04:40:00.000</td>\n",
              "    </tr>\n",
              "    <tr>\n",
              "      <th>16</th>\n",
              "      <td>1.433220e+12</td>\n",
              "      <td>1377281</td>\n",
              "      <td>view</td>\n",
              "      <td>251467</td>\n",
              "      <td>NaN</td>\n",
              "      <td>2015-06-02 04:40:00.000</td>\n",
              "    </tr>\n",
              "    <tr>\n",
              "      <th>17</th>\n",
              "      <td>1.433220e+12</td>\n",
              "      <td>287857</td>\n",
              "      <td>addtocart</td>\n",
              "      <td>5206</td>\n",
              "      <td>NaN</td>\n",
              "      <td>2015-06-02 04:40:00.000</td>\n",
              "    </tr>\n",
              "    <tr>\n",
              "      <th>18</th>\n",
              "      <td>1.433220e+12</td>\n",
              "      <td>1370216</td>\n",
              "      <td>view</td>\n",
              "      <td>176721</td>\n",
              "      <td>NaN</td>\n",
              "      <td>2015-06-02 04:40:00.000</td>\n",
              "    </tr>\n",
              "    <tr>\n",
              "      <th>19</th>\n",
              "      <td>1.433220e+12</td>\n",
              "      <td>158090</td>\n",
              "      <td>addtocart</td>\n",
              "      <td>10572</td>\n",
              "      <td>NaN</td>\n",
              "      <td>2015-06-02 04:40:00.000</td>\n",
              "    </tr>\n",
              "  </tbody>\n",
              "</table>\n",
              "</div>"
            ],
            "text/plain": [
              "       timestamp  visitorid  ... transactionid                date_time\n",
              "0   1.433220e+12     257597  ...           NaN  2015-06-02 04:40:00.000\n",
              "1   1.433220e+12     992329  ...           NaN  2015-06-02 04:40:00.000\n",
              "2   1.433220e+12     111016  ...           NaN  2015-06-02 04:40:00.000\n",
              "3   1.433220e+12     483717  ...           NaN  2015-06-02 04:40:00.000\n",
              "4   1.433220e+12     951259  ...           NaN  2015-06-02 04:40:00.000\n",
              "5   1.433220e+12     972639  ...           NaN  2015-06-02 04:40:00.000\n",
              "6   1.433220e+12     810725  ...           NaN  2015-06-02 04:40:00.000\n",
              "7   1.433220e+12     794181  ...           NaN  2015-06-02 04:40:00.000\n",
              "8   1.433220e+12     824915  ...           NaN  2015-06-02 04:40:00.000\n",
              "9   1.433220e+12     339335  ...           NaN  2015-06-02 04:40:00.000\n",
              "10  1.433220e+12     176446  ...           NaN  2015-06-02 04:40:00.000\n",
              "11  1.433220e+12     929206  ...           NaN  2015-06-02 04:40:00.000\n",
              "12  1.433220e+12      15795  ...           NaN  2015-06-02 04:40:00.000\n",
              "13  1.433220e+12     598426  ...           NaN  2015-06-02 04:40:00.000\n",
              "14  1.433220e+12     223343  ...           NaN  2015-06-02 04:40:00.000\n",
              "15  1.433220e+12      57036  ...           NaN  2015-06-02 04:40:00.000\n",
              "16  1.433220e+12    1377281  ...           NaN  2015-06-02 04:40:00.000\n",
              "17  1.433220e+12     287857  ...           NaN  2015-06-02 04:40:00.000\n",
              "18  1.433220e+12    1370216  ...           NaN  2015-06-02 04:40:00.000\n",
              "19  1.433220e+12     158090  ...           NaN  2015-06-02 04:40:00.000\n",
              "\n",
              "[20 rows x 6 columns]"
            ]
          },
          "metadata": {
            "tags": []
          },
          "execution_count": 15
        }
      ]
    },
    {
      "cell_type": "markdown",
      "metadata": {
        "id": "6Ffl2Q0_sc4P"
      },
      "source": [
        "**Retailers get to know the number of unique visitors per event **"
      ]
    },
    {
      "cell_type": "code",
      "metadata": {
        "colab": {
          "base_uri": "https://localhost:8080/",
          "height": 458
        },
        "id": "Vd9KuH2cijvO",
        "outputId": "20104d6d-64cc-4907-ee2c-b728402ccaa5"
      },
      "source": [
        "totalcases=edf.shape[0]\n",
        "fig, (ax1,ax2) = plt.subplots(1,2, figsize=(15,7))\n",
        "\n",
        "# distribution of event type\n",
        "ax1.hist(edf['event'], bins=3)\n",
        "ax1.set_xlabel('Type of Events')\n",
        "ax1.set_ylabel('Number of Events (Unit: million)')\n",
        "ax1.set_title('Distribution by Event Type')\n",
        "for x,counts in zip(edf['event'].unique().tolist(), edf['event'].value_counts().tolist()):\n",
        "    text=str(round((counts/totalcases)*100,2)) +'%'\n",
        "    ax1.text(x, counts, text, fontsize=18)\n",
        "    \n",
        "# unique number of visitors by event\n",
        "for event in edf['event'].unique().tolist():\n",
        "    height=len(edf['visitorid'][edf['event']==event].unique())\n",
        "    ax2.bar(x=event, height=height)\n",
        "    \n",
        "    text=len(edf['visitorid'][edf['event']==event].unique())/len(edf['visitorid'][edf['event']==event])\n",
        "    text=str(round(text*100,2)) + '%'\n",
        "    ax2.text(event, height, text, fontsize=18)\n",
        "ax2.set_title('Unique Number of Visitors')\n",
        "plt.show()"
      ],
      "execution_count": 16,
      "outputs": [
        {
          "output_type": "display_data",
          "data": {
            "image/png": "[encoded data removed]",
            "text/plain": [
              "<Figure size 1080x504 with 2 Axes>"
            ]
          },
          "metadata": {
            "tags": [],
            "needs_background": "light"
          }
        }
      ]
    },
    {
      "cell_type": "markdown",
      "metadata": {
        "id": "3KoHmrkTw97g"
      },
      "source": [
        "**DISTRIBUTION OF EVENTS**\n",
        "\n",
        "\n",
        "View 96.35%\n",
        "Add to Cart 2.71%\n",
        "Transation 0.94%"
      ]
    },
    {
      "cell_type": "markdown",
      "metadata": {
        "id": "4Mp8T9q5xQlH"
      },
      "source": [
        "**NUMBER OF UNIQUE VISITORS**\n",
        "\n",
        "Total views of unique visitors are approximately 550000\n",
        "Total views = ~900000\n",
        "Hence it's 63.15% which means on an average each visitor caused 3 actions "
      ]
    },
    {
      "cell_type": "markdown",
      "metadata": {
        "id": "HR2SqOBj7i9_"
      },
      "source": [
        "**Retailers get to know how many times was the item viewed before purchase and the number of instant purchases**"
      ]
    },
    {
      "cell_type": "code",
      "metadata": {
        "id": "mzkX_Jel7gGA"
      },
      "source": [
        "item_tra=edf[['visitorid','itemid','date_time']][edf['event']=='transaction']\n",
        "# obtain vistor id,item id, and date time of 'add to cart'\n",
        "item_atc=edf[['visitorid','itemid','date_time']][edf['event']=='addtocart']\n",
        "# obtain vistor id,item id, and date time of 'view'\n",
        "item_viw=edf[['visitorid','itemid','date_time']][edf['event']=='view']"
      ],
      "execution_count": 14,
      "outputs": []
    },
    {
      "cell_type": "code",
      "metadata": {
        "id": "HJTLAL-2xPo-",
        "colab": {
          "base_uri": "https://localhost:8080/",
          "height": 202
        },
        "outputId": "6169a122-d503-41a4-a649-4b92dc9b8b09"
      },
      "source": [
        "m=item_tra.merge(item_atc, how='inner', on=['visitorid','itemid'], suffixes=[' (transaction)', ' (add_to_cart)'])\n",
        "m=m.merge(item_viw, how='inner', on=['visitorid','itemid'])\n",
        "m=m.rename(columns={'date_time':'date_time (view)'})\n",
        "m.head()"
      ],
      "execution_count": 15,
      "outputs": [
        {
          "output_type": "execute_result",
          "data": {
            "text/html": [
              "<div>\n",
              "<style scoped>\n",
              "    .dataframe tbody tr th:only-of-type {\n",
              "        vertical-align: middle;\n",
              "    }\n",
              "\n",
              "    .dataframe tbody tr th {\n",
              "        vertical-align: top;\n",
              "    }\n",
              "\n",
              "    .dataframe thead th {\n",
              "        text-align: right;\n",
              "    }\n",
              "</style>\n",
              "<table border=\"1\" class=\"dataframe\">\n",
              "  <thead>\n",
              "    <tr style=\"text-align: right;\">\n",
              "      <th></th>\n",
              "      <th>visitorid</th>\n",
              "      <th>itemid</th>\n",
              "      <th>date_time (transaction)</th>\n",
              "      <th>date_time (add_to_cart)</th>\n",
              "      <th>date_time (view)</th>\n",
              "    </tr>\n",
              "  </thead>\n",
              "  <tbody>\n",
              "    <tr>\n",
              "      <th>0</th>\n",
              "      <td>599528</td>\n",
              "      <td>356475</td>\n",
              "      <td>2015-06-02 04:40:00.000</td>\n",
              "      <td>2015-06-02 04:40:00.000</td>\n",
              "      <td>2015-06-02 04:40:00.000</td>\n",
              "    </tr>\n",
              "    <tr>\n",
              "      <th>1</th>\n",
              "      <td>599528</td>\n",
              "      <td>356475</td>\n",
              "      <td>2015-06-02 04:40:00.000</td>\n",
              "      <td>2015-06-02 04:40:00.000</td>\n",
              "      <td>2015-06-03 02:53:20.000</td>\n",
              "    </tr>\n",
              "    <tr>\n",
              "      <th>2</th>\n",
              "      <td>599528</td>\n",
              "      <td>356475</td>\n",
              "      <td>2015-06-02 04:40:00.000</td>\n",
              "      <td>2015-06-02 04:40:00.000</td>\n",
              "      <td>2015-06-06 22:33:20.000</td>\n",
              "    </tr>\n",
              "    <tr>\n",
              "      <th>3</th>\n",
              "      <td>599528</td>\n",
              "      <td>356475</td>\n",
              "      <td>2015-06-02 04:40:00.000</td>\n",
              "      <td>2015-06-02 04:40:00.000</td>\n",
              "      <td>2015-06-08 02:20:00.000</td>\n",
              "    </tr>\n",
              "    <tr>\n",
              "      <th>4</th>\n",
              "      <td>599528</td>\n",
              "      <td>356475</td>\n",
              "      <td>2015-06-02 04:40:00.000</td>\n",
              "      <td>2015-06-02 04:40:00.000</td>\n",
              "      <td>2015-06-10 01:33:20.000</td>\n",
              "    </tr>\n",
              "  </tbody>\n",
              "</table>\n",
              "</div>"
            ],
            "text/plain": [
              "   visitorid  itemid  ...  date_time (add_to_cart)         date_time (view)\n",
              "0     599528  356475  ...  2015-06-02 04:40:00.000  2015-06-02 04:40:00.000\n",
              "1     599528  356475  ...  2015-06-02 04:40:00.000  2015-06-03 02:53:20.000\n",
              "2     599528  356475  ...  2015-06-02 04:40:00.000  2015-06-06 22:33:20.000\n",
              "3     599528  356475  ...  2015-06-02 04:40:00.000  2015-06-08 02:20:00.000\n",
              "4     599528  356475  ...  2015-06-02 04:40:00.000  2015-06-10 01:33:20.000\n",
              "\n",
              "[5 rows x 5 columns]"
            ]
          },
          "metadata": {
            "tags": []
          },
          "execution_count": 15
        }
      ]
    },
    {
      "cell_type": "code",
      "metadata": {
        "id": "PaIjvXvjw2iw"
      },
      "source": [
        "m['date_time (transaction)']=pd.to_datetime(m['date_time (transaction)'])\n",
        "m['date_time (add_to_cart)']=pd.to_datetime(m['date_time (add_to_cart)'])\n",
        "m['date_time (view)']=pd.to_datetime(m['date_time (view)'])"
      ],
      "execution_count": 16,
      "outputs": []
    },
    {
      "cell_type": "code",
      "metadata": {
        "id": "QnLrqlWxPuLC"
      },
      "source": [
        "msk=(m['date_time (transaction)']-m['date_time (view)'])>np.timedelta64(0,'m')\n",
        "m1=m[msk]"
      ],
      "execution_count": 18,
      "outputs": []
    },
    {
      "cell_type": "code",
      "metadata": {
        "colab": {
          "base_uri": "https://localhost:8080/"
        },
        "id": "J6ahV2oLQiXM",
        "outputId": "287799cc-0ce0-42a4-bd75-c7b81853605c"
      },
      "source": [
        "mul_viw=m1.duplicated(subset=['visitorid','itemid'], keep=False)\n",
        "sig_viw=m1[~mul_viw]\n",
        "mul_viw=m1[mul_viw]\n",
        "\n",
        "# last occurrence in duplicates = view when a visitor made purchase\n",
        "# therefore, filter dataframe to leave only views before last occurence\n",
        "notlast=mul_viw.duplicated(subset=['visitorid','itemid'], keep='last')  # except for last occurance\n",
        "\n",
        "# count the number of view\n",
        "# obtain the average number of it\n",
        "avg_viw=mul_viw[notlast].groupby(['visitorid','itemid']).count()['date_time (view)'].mean()\n",
        "print('Average Number of Views Before Purchase: {0:.0f}'.format(avg_viw))"
      ],
      "execution_count": 19,
      "outputs": [
        {
          "output_type": "stream",
          "text": [
            "Average Number of Views Before Purchase: 5\n"
          ],
          "name": "stdout"
        }
      ]
    },
    {
      "cell_type": "code",
      "metadata": {
        "colab": {
          "base_uri": "https://localhost:8080/"
        },
        "id": "bz08ALeLRTRi",
        "outputId": "0fca922c-68d8-4f30-8ecb-5b544cf59e64"
      },
      "source": [
        "mul_viw[notlast].groupby(['visitorid','itemid']).count()['date_time (view)'].describe()\n"
      ],
      "execution_count": 20,
      "outputs": [
        {
          "output_type": "execute_result",
          "data": {
            "text/plain": [
              "count    943.000000\n",
              "mean       5.218452\n",
              "std       26.992194\n",
              "min        1.000000\n",
              "25%        1.000000\n",
              "50%        2.000000\n",
              "75%        4.000000\n",
              "max      789.000000\n",
              "Name: date_time (view), dtype: float64"
            ]
          },
          "metadata": {
            "tags": []
          },
          "execution_count": 20
        }
      ]
    },
    {
      "cell_type": "code",
      "metadata": {
        "colab": {
          "base_uri": "https://localhost:8080/",
          "height": 233
        },
        "id": "kDY8P1nkRU3C",
        "outputId": "679a0ea6-2a06-4216-c1b6-826e170259d0"
      },
      "source": [
        "n_viw=mul_viw[notlast].groupby(['visitorid','itemid']).count()['date_time (view)']\n",
        "n_viw=pd.DataFrame(n_viw)\n",
        "n_viw.head()"
      ],
      "execution_count": 21,
      "outputs": [
        {
          "output_type": "execute_result",
          "data": {
            "text/html": [
              "<div>\n",
              "<style scoped>\n",
              "    .dataframe tbody tr th:only-of-type {\n",
              "        vertical-align: middle;\n",
              "    }\n",
              "\n",
              "    .dataframe tbody tr th {\n",
              "        vertical-align: top;\n",
              "    }\n",
              "\n",
              "    .dataframe thead th {\n",
              "        text-align: right;\n",
              "    }\n",
              "</style>\n",
              "<table border=\"1\" class=\"dataframe\">\n",
              "  <thead>\n",
              "    <tr style=\"text-align: right;\">\n",
              "      <th></th>\n",
              "      <th></th>\n",
              "      <th>date_time (view)</th>\n",
              "    </tr>\n",
              "    <tr>\n",
              "      <th>visitorid</th>\n",
              "      <th>itemid</th>\n",
              "      <th></th>\n",
              "    </tr>\n",
              "  </thead>\n",
              "  <tbody>\n",
              "    <tr>\n",
              "      <th>1032</th>\n",
              "      <th>243949</th>\n",
              "      <td>1</td>\n",
              "    </tr>\n",
              "    <tr>\n",
              "      <th rowspan=\"2\" valign=\"top\">2019</th>\n",
              "      <th>393144</th>\n",
              "      <td>5</td>\n",
              "    </tr>\n",
              "    <tr>\n",
              "      <th>445559</th>\n",
              "      <td>4</td>\n",
              "    </tr>\n",
              "    <tr>\n",
              "      <th>5117</th>\n",
              "      <th>241061</th>\n",
              "      <td>2</td>\n",
              "    </tr>\n",
              "    <tr>\n",
              "      <th>6468</th>\n",
              "      <th>65273</th>\n",
              "      <td>1</td>\n",
              "    </tr>\n",
              "  </tbody>\n",
              "</table>\n",
              "</div>"
            ],
            "text/plain": [
              "                  date_time (view)\n",
              "visitorid itemid                  \n",
              "1032      243949                 1\n",
              "2019      393144                 5\n",
              "          445559                 4\n",
              "5117      241061                 2\n",
              "6468      65273                  1"
            ]
          },
          "metadata": {
            "tags": []
          },
          "execution_count": 21
        }
      ]
    },
    {
      "cell_type": "code",
      "metadata": {
        "colab": {
          "base_uri": "https://localhost:8080/",
          "height": 1000
        },
        "id": "G8PAlyrjRcsf",
        "outputId": "00433619-5cdc-4c09-811c-02e49dea4822"
      },
      "source": [
        "n_viw2=pd.DataFrame(n_viw.value_counts(), columns=['count'])\n",
        "n_viw2=n_viw2.reset_index()\n",
        "\n",
        "# add a row with the value of instant purchase\n",
        "# item view at the time of transaction counted as '0' here\n",
        "n_viw2.loc[len(n_viw2)]=['0',sig_viw.shape[0]]\n",
        "\n",
        "# add the column of share in percentage\n",
        "n_viw2=n_viw2.sort_values('count', ascending=False)\n",
        "n_viw2['share (%)']=((n_viw2['count']/(n_viw2['count'].sum()))*100).round(2)\n",
        "n_viw2=n_viw2.reset_index(drop=True)\n",
        "n_viw2"
      ],
      "execution_count": 22,
      "outputs": [
        {
          "output_type": "execute_result",
          "data": {
            "text/html": [
              "<div>\n",
              "<style scoped>\n",
              "    .dataframe tbody tr th:only-of-type {\n",
              "        vertical-align: middle;\n",
              "    }\n",
              "\n",
              "    .dataframe tbody tr th {\n",
              "        vertical-align: top;\n",
              "    }\n",
              "\n",
              "    .dataframe thead th {\n",
              "        text-align: right;\n",
              "    }\n",
              "</style>\n",
              "<table border=\"1\" class=\"dataframe\">\n",
              "  <thead>\n",
              "    <tr style=\"text-align: right;\">\n",
              "      <th></th>\n",
              "      <th>date_time (view)</th>\n",
              "      <th>count</th>\n",
              "      <th>share (%)</th>\n",
              "    </tr>\n",
              "  </thead>\n",
              "  <tbody>\n",
              "    <tr>\n",
              "      <th>0</th>\n",
              "      <td>0</td>\n",
              "      <td>663</td>\n",
              "      <td>41.28</td>\n",
              "    </tr>\n",
              "    <tr>\n",
              "      <th>1</th>\n",
              "      <td>1</td>\n",
              "      <td>377</td>\n",
              "      <td>23.47</td>\n",
              "    </tr>\n",
              "    <tr>\n",
              "      <th>2</th>\n",
              "      <td>3</td>\n",
              "      <td>158</td>\n",
              "      <td>9.84</td>\n",
              "    </tr>\n",
              "    <tr>\n",
              "      <th>3</th>\n",
              "      <td>2</td>\n",
              "      <td>141</td>\n",
              "      <td>8.78</td>\n",
              "    </tr>\n",
              "    <tr>\n",
              "      <th>4</th>\n",
              "      <td>5</td>\n",
              "      <td>60</td>\n",
              "      <td>3.74</td>\n",
              "    </tr>\n",
              "    <tr>\n",
              "      <th>5</th>\n",
              "      <td>7</td>\n",
              "      <td>47</td>\n",
              "      <td>2.93</td>\n",
              "    </tr>\n",
              "    <tr>\n",
              "      <th>6</th>\n",
              "      <td>4</td>\n",
              "      <td>43</td>\n",
              "      <td>2.68</td>\n",
              "    </tr>\n",
              "    <tr>\n",
              "      <th>7</th>\n",
              "      <td>11</td>\n",
              "      <td>19</td>\n",
              "      <td>1.18</td>\n",
              "    </tr>\n",
              "    <tr>\n",
              "      <th>8</th>\n",
              "      <td>8</td>\n",
              "      <td>12</td>\n",
              "      <td>0.75</td>\n",
              "    </tr>\n",
              "    <tr>\n",
              "      <th>9</th>\n",
              "      <td>6</td>\n",
              "      <td>12</td>\n",
              "      <td>0.75</td>\n",
              "    </tr>\n",
              "    <tr>\n",
              "      <th>10</th>\n",
              "      <td>9</td>\n",
              "      <td>10</td>\n",
              "      <td>0.62</td>\n",
              "    </tr>\n",
              "    <tr>\n",
              "      <th>11</th>\n",
              "      <td>15</td>\n",
              "      <td>10</td>\n",
              "      <td>0.62</td>\n",
              "    </tr>\n",
              "    <tr>\n",
              "      <th>12</th>\n",
              "      <td>17</td>\n",
              "      <td>7</td>\n",
              "      <td>0.44</td>\n",
              "    </tr>\n",
              "    <tr>\n",
              "      <th>13</th>\n",
              "      <td>23</td>\n",
              "      <td>6</td>\n",
              "      <td>0.37</td>\n",
              "    </tr>\n",
              "    <tr>\n",
              "      <th>14</th>\n",
              "      <td>14</td>\n",
              "      <td>6</td>\n",
              "      <td>0.37</td>\n",
              "    </tr>\n",
              "    <tr>\n",
              "      <th>15</th>\n",
              "      <td>13</td>\n",
              "      <td>5</td>\n",
              "      <td>0.31</td>\n",
              "    </tr>\n",
              "    <tr>\n",
              "      <th>16</th>\n",
              "      <td>41</td>\n",
              "      <td>2</td>\n",
              "      <td>0.12</td>\n",
              "    </tr>\n",
              "    <tr>\n",
              "      <th>17</th>\n",
              "      <td>53</td>\n",
              "      <td>2</td>\n",
              "      <td>0.12</td>\n",
              "    </tr>\n",
              "    <tr>\n",
              "      <th>18</th>\n",
              "      <td>29</td>\n",
              "      <td>2</td>\n",
              "      <td>0.12</td>\n",
              "    </tr>\n",
              "    <tr>\n",
              "      <th>19</th>\n",
              "      <td>21</td>\n",
              "      <td>2</td>\n",
              "      <td>0.12</td>\n",
              "    </tr>\n",
              "    <tr>\n",
              "      <th>20</th>\n",
              "      <td>19</td>\n",
              "      <td>2</td>\n",
              "      <td>0.12</td>\n",
              "    </tr>\n",
              "    <tr>\n",
              "      <th>21</th>\n",
              "      <td>43</td>\n",
              "      <td>2</td>\n",
              "      <td>0.12</td>\n",
              "    </tr>\n",
              "    <tr>\n",
              "      <th>22</th>\n",
              "      <td>10</td>\n",
              "      <td>2</td>\n",
              "      <td>0.12</td>\n",
              "    </tr>\n",
              "    <tr>\n",
              "      <th>23</th>\n",
              "      <td>92</td>\n",
              "      <td>1</td>\n",
              "      <td>0.06</td>\n",
              "    </tr>\n",
              "    <tr>\n",
              "      <th>24</th>\n",
              "      <td>12</td>\n",
              "      <td>1</td>\n",
              "      <td>0.06</td>\n",
              "    </tr>\n",
              "    <tr>\n",
              "      <th>25</th>\n",
              "      <td>789</td>\n",
              "      <td>1</td>\n",
              "      <td>0.06</td>\n",
              "    </tr>\n",
              "    <tr>\n",
              "      <th>26</th>\n",
              "      <td>20</td>\n",
              "      <td>1</td>\n",
              "      <td>0.06</td>\n",
              "    </tr>\n",
              "    <tr>\n",
              "      <th>27</th>\n",
              "      <td>27</td>\n",
              "      <td>1</td>\n",
              "      <td>0.06</td>\n",
              "    </tr>\n",
              "    <tr>\n",
              "      <th>28</th>\n",
              "      <td>32</td>\n",
              "      <td>1</td>\n",
              "      <td>0.06</td>\n",
              "    </tr>\n",
              "    <tr>\n",
              "      <th>29</th>\n",
              "      <td>33</td>\n",
              "      <td>1</td>\n",
              "      <td>0.06</td>\n",
              "    </tr>\n",
              "    <tr>\n",
              "      <th>30</th>\n",
              "      <td>35</td>\n",
              "      <td>1</td>\n",
              "      <td>0.06</td>\n",
              "    </tr>\n",
              "    <tr>\n",
              "      <th>31</th>\n",
              "      <td>39</td>\n",
              "      <td>1</td>\n",
              "      <td>0.06</td>\n",
              "    </tr>\n",
              "    <tr>\n",
              "      <th>32</th>\n",
              "      <td>79</td>\n",
              "      <td>1</td>\n",
              "      <td>0.06</td>\n",
              "    </tr>\n",
              "    <tr>\n",
              "      <th>33</th>\n",
              "      <td>24</td>\n",
              "      <td>1</td>\n",
              "      <td>0.06</td>\n",
              "    </tr>\n",
              "    <tr>\n",
              "      <th>34</th>\n",
              "      <td>45</td>\n",
              "      <td>1</td>\n",
              "      <td>0.06</td>\n",
              "    </tr>\n",
              "    <tr>\n",
              "      <th>35</th>\n",
              "      <td>46</td>\n",
              "      <td>1</td>\n",
              "      <td>0.06</td>\n",
              "    </tr>\n",
              "    <tr>\n",
              "      <th>36</th>\n",
              "      <td>47</td>\n",
              "      <td>1</td>\n",
              "      <td>0.06</td>\n",
              "    </tr>\n",
              "    <tr>\n",
              "      <th>37</th>\n",
              "      <td>71</td>\n",
              "      <td>1</td>\n",
              "      <td>0.06</td>\n",
              "    </tr>\n",
              "    <tr>\n",
              "      <th>38</th>\n",
              "      <td>141</td>\n",
              "      <td>1</td>\n",
              "      <td>0.06</td>\n",
              "    </tr>\n",
              "  </tbody>\n",
              "</table>\n",
              "</div>"
            ],
            "text/plain": [
              "   date_time (view)  count  share (%)\n",
              "0                 0    663      41.28\n",
              "1                 1    377      23.47\n",
              "2                 3    158       9.84\n",
              "3                 2    141       8.78\n",
              "4                 5     60       3.74\n",
              "5                 7     47       2.93\n",
              "6                 4     43       2.68\n",
              "7                11     19       1.18\n",
              "8                 8     12       0.75\n",
              "9                 6     12       0.75\n",
              "10                9     10       0.62\n",
              "11               15     10       0.62\n",
              "12               17      7       0.44\n",
              "13               23      6       0.37\n",
              "14               14      6       0.37\n",
              "15               13      5       0.31\n",
              "16               41      2       0.12\n",
              "17               53      2       0.12\n",
              "18               29      2       0.12\n",
              "19               21      2       0.12\n",
              "20               19      2       0.12\n",
              "21               43      2       0.12\n",
              "22               10      2       0.12\n",
              "23               92      1       0.06\n",
              "24               12      1       0.06\n",
              "25              789      1       0.06\n",
              "26               20      1       0.06\n",
              "27               27      1       0.06\n",
              "28               32      1       0.06\n",
              "29               33      1       0.06\n",
              "30               35      1       0.06\n",
              "31               39      1       0.06\n",
              "32               79      1       0.06\n",
              "33               24      1       0.06\n",
              "34               45      1       0.06\n",
              "35               46      1       0.06\n",
              "36               47      1       0.06\n",
              "37               71      1       0.06\n",
              "38              141      1       0.06"
            ]
          },
          "metadata": {
            "tags": []
          },
          "execution_count": 22
        }
      ]
    },
    {
      "cell_type": "code",
      "metadata": {
        "id": "mei4idXCRi_x"
      },
      "source": [
        "n_viw3=n_viw2[0:5].copy()\n",
        "others=n_viw2[5::].sum().tolist()\n",
        "others[0]='others'\n",
        "n_viw3.loc[len(n_viw3)]=others\n",
        "\n",
        "# set new index\n",
        "n_viw3['index']=['instant purchase', 'view 1', 'view 2','view 3', 'view 5', 'others']\n",
        "n_viw3=n_viw3.set_index(['index'])"
      ],
      "execution_count": 23,
      "outputs": []
    },
    {
      "cell_type": "code",
      "metadata": {
        "colab": {
          "base_uri": "https://localhost:8080/",
          "height": 501
        },
        "id": "2Mfp0dUPRqOx",
        "outputId": "819c4d3f-20a5-4a6c-e8a0-1fc65e0087fd"
      },
      "source": [
        "n_viw3.plot(y='share (%)', kind='pie', autopct='%1.1f%%',  shadow=True, startangle=-90, legend=False, figsize=(8,8), fontsize=20)\n",
        "plt.title('The Number of Item Views Before Purchase Decision', fontsize=20, pad=20)\n",
        "plt.ylabel('')\n",
        "plt.show()"
      ],
      "execution_count": 24,
      "outputs": [
        {
          "output_type": "display_data",
          "data": {
            "image/png": "[encoded data removed]",
            "text/plain": [
              "<Figure size 576x576 with 1 Axes>"
            ]
          },
          "metadata": {
            "tags": []
          }
        }
      ]
    },
    {
      "cell_type": "markdown",
      "metadata": {
        "id": "Ufo74K__R2UP"
      },
      "source": [
        "**Retailer enters the ITEMID and gets to know the total number of views, addtocart and transaction events per ITEMID**"
      ]
    },
    {
      "cell_type": "code",
      "metadata": {
        "colab": {
          "base_uri": "https://localhost:8080/",
          "height": 202
        },
        "id": "udKy_XVYSLB0",
        "outputId": "0d73c37a-a350-439c-e83b-6a463d96f54a"
      },
      "source": [
        "edf.head()"
      ],
      "execution_count": 13,
      "outputs": [
        {
          "output_type": "execute_result",
          "data": {
            "text/html": [
              "<div>\n",
              "<style scoped>\n",
              "    .dataframe tbody tr th:only-of-type {\n",
              "        vertical-align: middle;\n",
              "    }\n",
              "\n",
              "    .dataframe tbody tr th {\n",
              "        vertical-align: top;\n",
              "    }\n",
              "\n",
              "    .dataframe thead th {\n",
              "        text-align: right;\n",
              "    }\n",
              "</style>\n",
              "<table border=\"1\" class=\"dataframe\">\n",
              "  <thead>\n",
              "    <tr style=\"text-align: right;\">\n",
              "      <th></th>\n",
              "      <th>timestamp</th>\n",
              "      <th>visitorid</th>\n",
              "      <th>event</th>\n",
              "      <th>itemid</th>\n",
              "      <th>transactionid</th>\n",
              "    </tr>\n",
              "  </thead>\n",
              "  <tbody>\n",
              "    <tr>\n",
              "      <th>0</th>\n",
              "      <td>1.433220e+12</td>\n",
              "      <td>257597</td>\n",
              "      <td>view</td>\n",
              "      <td>355908</td>\n",
              "      <td>NaN</td>\n",
              "    </tr>\n",
              "    <tr>\n",
              "      <th>1</th>\n",
              "      <td>1.433220e+12</td>\n",
              "      <td>992329</td>\n",
              "      <td>view</td>\n",
              "      <td>248676</td>\n",
              "      <td>NaN</td>\n",
              "    </tr>\n",
              "    <tr>\n",
              "      <th>2</th>\n",
              "      <td>1.433220e+12</td>\n",
              "      <td>111016</td>\n",
              "      <td>view</td>\n",
              "      <td>318965</td>\n",
              "      <td>NaN</td>\n",
              "    </tr>\n",
              "    <tr>\n",
              "      <th>3</th>\n",
              "      <td>1.433220e+12</td>\n",
              "      <td>483717</td>\n",
              "      <td>view</td>\n",
              "      <td>253185</td>\n",
              "      <td>NaN</td>\n",
              "    </tr>\n",
              "    <tr>\n",
              "      <th>4</th>\n",
              "      <td>1.433220e+12</td>\n",
              "      <td>951259</td>\n",
              "      <td>view</td>\n",
              "      <td>367447</td>\n",
              "      <td>NaN</td>\n",
              "    </tr>\n",
              "  </tbody>\n",
              "</table>\n",
              "</div>"
            ],
            "text/plain": [
              "      timestamp  visitorid event  itemid  transactionid\n",
              "0  1.433220e+12     257597  view  355908            NaN\n",
              "1  1.433220e+12     992329  view  248676            NaN\n",
              "2  1.433220e+12     111016  view  318965            NaN\n",
              "3  1.433220e+12     483717  view  253185            NaN\n",
              "4  1.433220e+12     951259  view  367447            NaN"
            ]
          },
          "metadata": {
            "tags": []
          },
          "execution_count": 13
        }
      ]
    },
    {
      "cell_type": "code",
      "metadata": {
        "id": "ZIjCQImRTbmi"
      },
      "source": [
        "tedf = edf.drop(['timestamp','visitorid','transactionid','date_time'], axis=1, inplace=False)"
      ],
      "execution_count": 64,
      "outputs": []
    },
    {
      "cell_type": "code",
      "metadata": {
        "colab": {
          "base_uri": "https://localhost:8080/",
          "height": 446
        },
        "id": "N62RDu-rWDwQ",
        "outputId": "add4cb4b-10ec-45be-911c-a294dee2c8c2"
      },
      "source": [
        "tedf.set_index('itemid')"
      ],
      "execution_count": 40,
      "outputs": [
        {
          "output_type": "execute_result",
          "data": {
            "text/html": [
              "<div>\n",
              "<style scoped>\n",
              "    .dataframe tbody tr th:only-of-type {\n",
              "        vertical-align: middle;\n",
              "    }\n",
              "\n",
              "    .dataframe tbody tr th {\n",
              "        vertical-align: top;\n",
              "    }\n",
              "\n",
              "    .dataframe thead th {\n",
              "        text-align: right;\n",
              "    }\n",
              "</style>\n",
              "<table border=\"1\" class=\"dataframe\">\n",
              "  <thead>\n",
              "    <tr style=\"text-align: right;\">\n",
              "      <th></th>\n",
              "      <th>event</th>\n",
              "    </tr>\n",
              "    <tr>\n",
              "      <th>itemid</th>\n",
              "      <th></th>\n",
              "    </tr>\n",
              "  </thead>\n",
              "  <tbody>\n",
              "    <tr>\n",
              "      <th>355908</th>\n",
              "      <td>view</td>\n",
              "    </tr>\n",
              "    <tr>\n",
              "      <th>248676</th>\n",
              "      <td>view</td>\n",
              "    </tr>\n",
              "    <tr>\n",
              "      <th>318965</th>\n",
              "      <td>view</td>\n",
              "    </tr>\n",
              "    <tr>\n",
              "      <th>253185</th>\n",
              "      <td>view</td>\n",
              "    </tr>\n",
              "    <tr>\n",
              "      <th>367447</th>\n",
              "      <td>view</td>\n",
              "    </tr>\n",
              "    <tr>\n",
              "      <th>...</th>\n",
              "      <td>...</td>\n",
              "    </tr>\n",
              "    <tr>\n",
              "      <th>447661</th>\n",
              "      <td>view</td>\n",
              "    </tr>\n",
              "    <tr>\n",
              "      <th>40140</th>\n",
              "      <td>view</td>\n",
              "    </tr>\n",
              "    <tr>\n",
              "      <th>272976</th>\n",
              "      <td>view</td>\n",
              "    </tr>\n",
              "    <tr>\n",
              "      <th>204260</th>\n",
              "      <td>view</td>\n",
              "    </tr>\n",
              "    <tr>\n",
              "      <th>201386</th>\n",
              "      <td>view</td>\n",
              "    </tr>\n",
              "  </tbody>\n",
              "</table>\n",
              "<p>1048575 rows × 1 columns</p>\n",
              "</div>"
            ],
            "text/plain": [
              "       event\n",
              "itemid      \n",
              "355908  view\n",
              "248676  view\n",
              "318965  view\n",
              "253185  view\n",
              "367447  view\n",
              "...      ...\n",
              "447661  view\n",
              "40140   view\n",
              "272976  view\n",
              "204260  view\n",
              "201386  view\n",
              "\n",
              "[1048575 rows x 1 columns]"
            ]
          },
          "metadata": {
            "tags": []
          },
          "execution_count": 40
        }
      ]
    },
    {
      "cell_type": "code",
      "metadata": {
        "colab": {
          "base_uri": "https://localhost:8080/"
        },
        "id": "bfushmsPSsPQ",
        "outputId": "12ad3109-9f44-4a69-861a-87d1468bb562"
      },
      "source": [
        "m = tedf.iloc[id]['event'] \n",
        "print(m == 'view')"
      ],
      "execution_count": 42,
      "outputs": [
        {
          "output_type": "stream",
          "text": [
            "True\n"
          ],
          "name": "stdout"
        }
      ]
    },
    {
      "cell_type": "code",
      "metadata": {
        "colab": {
          "base_uri": "https://localhost:8080/",
          "height": 350
        },
        "id": "a6Xt7VspdziY",
        "outputId": "4ac60a64-c013-445d-f223-ad2c96d52dd3"
      },
      "source": [
        "import numpy as np\n",
        "import matplotlib.pyplot as plt\n",
        "\n",
        "itemid = 319880\n",
        "m = tedf.iloc[id]['event'] \n",
        "tot_views=0\n",
        "tot_atc=0\n",
        "tot_trans=0\n",
        "\n",
        "for id in tedf.index:\n",
        "  if((id == itemid) & (m == 'view')):\n",
        "    tot_views +=1\n",
        "  if((id == itemid) & (m == 'addtocart')):\n",
        "    tot_atc +=1\n",
        "  if((id == itemid) & (m == 'transaction')):\n",
        "    tot_trans +=1\n",
        "\n",
        "x = [tot_views,tot_atc,tot_trans]\n",
        "labels = ['views','addtocart','transactions']\n",
        "\n",
        "fig = plt.figure(figsize = (10, 5))\n",
        " \n",
        "# creating the bar plot\n",
        "plt.bar(labels, x, color ='blue',width = 0.4)\n",
        " \n",
        "plt.xlabel(\"EVENT\")\n",
        "plt.ylabel(\"NUMBER\")\n",
        "plt.title(\"Events per ITEM ID\")\n",
        "plt.show()"
      ],
      "execution_count": 67,
      "outputs": [
        {
          "output_type": "display_data",
          "data": {
            "image/png": "[encoded data removed]",
            "text/plain": [
              "<Figure size 720x360 with 1 Axes>"
            ]
          },
          "metadata": {
            "tags": [],
            "needs_background": "light"
          }
        }
      ]
    }
  ]
}