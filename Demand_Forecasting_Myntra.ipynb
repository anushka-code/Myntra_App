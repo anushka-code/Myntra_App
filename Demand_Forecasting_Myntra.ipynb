{
  "nbformat": 4,
  "nbformat_minor": 0,
  "metadata": {
    "colab": {
      "name": "Demand Forecasting Myntra.ipynb",
      "provenance": [],
      "mount_file_id": "1EgQhnf50iL6ygyhW5QKeGgTsK5dQsRlc",
      "authorship_tag": "ABX9TyNemIsfqdjHFl38YYBJshTc",
      "include_colab_link": true
    },
    "kernelspec": {
      "name": "python3",
      "display_name": "Python 3"
    },
    "language_info": {
      "name": "python"
    }
  },
  "cells": [
    {
      "cell_type": "markdown",
      "metadata": {
        "id": "view-in-github",
        "colab_type": "text"
      },
      "source": [
        "<a href=\"https://colab.research.google.com/github/sakshi170920/Myntra_App/blob/main/Demand_Forecasting_Myntra.ipynb\" target=\"_parent\"><img src=\"https://colab.research.google.com/assets/colab-badge.svg\" alt=\"Open In Colab\"/></a>"
      ]
    },
    {
      "cell_type": "code",
      "metadata": {
        "id": "o63BIIV1XpDj"
      },
      "source": [
        "import pandas as pd\n",
        "import numpy as np\n",
        "import seaborn as sns\n",
        "import math\n",
        "from sklearn.preprocessing import LabelEncoder \n",
        "import warnings\n",
        "import statsmodels.api as sm\n",
        "import matplotlib.pyplot as plt\n",
        "warnings.filterwarnings(\"ignore\")\n",
        "%matplotlib inline "
      ],
      "execution_count": 98,
      "outputs": []
    },
    {
      "cell_type": "code",
      "metadata": {
        "colab": {
          "base_uri": "https://localhost:8080/"
        },
        "id": "TOjplA8DbnxX",
        "outputId": "84f7ddcb-b72f-489f-9b74-603f05034a1e"
      },
      "source": [
        "cd drive/MyDrive/Myntra_dataset/ecommerce_dataset/"
      ],
      "execution_count": 3,
      "outputs": [
        {
          "output_type": "stream",
          "text": [
            "/content/drive/MyDrive/Myntra_dataset/ecommerce_dataset\n"
          ],
          "name": "stdout"
        }
      ]
    },
    {
      "cell_type": "code",
      "metadata": {
        "id": "2h4l44fQoPB3",
        "colab": {
          "base_uri": "https://localhost:8080/"
        },
        "outputId": "0d279d4f-ee48-4358-c6f9-868b49984b95"
      },
      "source": [
        "data = pd.read_csv(\"data.csv\", encoding=\"ISO-8859-1\", dtype={'CustomerID': str})\n",
        "data.shape"
      ],
      "execution_count": 6,
      "outputs": [
        {
          "output_type": "execute_result",
          "data": {
            "text/plain": [
              "(541909, 8)"
            ]
          },
          "metadata": {
            "tags": []
          },
          "execution_count": 6
        }
      ]
    },
    {
      "cell_type": "markdown",
      "metadata": {
        "id": "4gPW3cfLYlga"
      },
      "source": [
        "#**Pre Processing**"
      ]
    },
    {
      "cell_type": "code",
      "metadata": {
        "colab": {
          "base_uri": "https://localhost:8080/",
          "height": 402
        },
        "id": "nuDK2yLp0kDX",
        "outputId": "06b8b585-d7ba-4c77-e505-4f6ef1dbd407"
      },
      "source": [
        "data"
      ],
      "execution_count": 7,
      "outputs": [
        {
          "output_type": "execute_result",
          "data": {
            "text/html": [
              "<div>\n",
              "<style scoped>\n",
              "    .dataframe tbody tr th:only-of-type {\n",
              "        vertical-align: middle;\n",
              "    }\n",
              "\n",
              "    .dataframe tbody tr th {\n",
              "        vertical-align: top;\n",
              "    }\n",
              "\n",
              "    .dataframe thead th {\n",
              "        text-align: right;\n",
              "    }\n",
              "</style>\n",
              "<table border=\"1\" class=\"dataframe\">\n",
              "  <thead>\n",
              "    <tr style=\"text-align: right;\">\n",
              "      <th></th>\n",
              "      <th>InvoiceNo</th>\n",
              "      <th>StockCode</th>\n",
              "      <th>Description</th>\n",
              "      <th>Quantity</th>\n",
              "      <th>InvoiceDate</th>\n",
              "      <th>UnitPrice</th>\n",
              "      <th>CustomerID</th>\n",
              "      <th>Country</th>\n",
              "    </tr>\n",
              "  </thead>\n",
              "  <tbody>\n",
              "    <tr>\n",
              "      <th>0</th>\n",
              "      <td>536365</td>\n",
              "      <td>85123A</td>\n",
              "      <td>WHITE HANGING HEART T-LIGHT HOLDER</td>\n",
              "      <td>6</td>\n",
              "      <td>12/1/2010 8:26</td>\n",
              "      <td>2.55</td>\n",
              "      <td>17850</td>\n",
              "      <td>United Kingdom</td>\n",
              "    </tr>\n",
              "    <tr>\n",
              "      <th>1</th>\n",
              "      <td>536365</td>\n",
              "      <td>71053</td>\n",
              "      <td>WHITE METAL LANTERN</td>\n",
              "      <td>6</td>\n",
              "      <td>12/1/2010 8:26</td>\n",
              "      <td>3.39</td>\n",
              "      <td>17850</td>\n",
              "      <td>United Kingdom</td>\n",
              "    </tr>\n",
              "    <tr>\n",
              "      <th>2</th>\n",
              "      <td>536365</td>\n",
              "      <td>84406B</td>\n",
              "      <td>CREAM CUPID HEARTS COAT HANGER</td>\n",
              "      <td>8</td>\n",
              "      <td>12/1/2010 8:26</td>\n",
              "      <td>2.75</td>\n",
              "      <td>17850</td>\n",
              "      <td>United Kingdom</td>\n",
              "    </tr>\n",
              "    <tr>\n",
              "      <th>3</th>\n",
              "      <td>536365</td>\n",
              "      <td>84029G</td>\n",
              "      <td>KNITTED UNION FLAG HOT WATER BOTTLE</td>\n",
              "      <td>6</td>\n",
              "      <td>12/1/2010 8:26</td>\n",
              "      <td>3.39</td>\n",
              "      <td>17850</td>\n",
              "      <td>United Kingdom</td>\n",
              "    </tr>\n",
              "    <tr>\n",
              "      <th>4</th>\n",
              "      <td>536365</td>\n",
              "      <td>84029E</td>\n",
              "      <td>RED WOOLLY HOTTIE WHITE HEART.</td>\n",
              "      <td>6</td>\n",
              "      <td>12/1/2010 8:26</td>\n",
              "      <td>3.39</td>\n",
              "      <td>17850</td>\n",
              "      <td>United Kingdom</td>\n",
              "    </tr>\n",
              "    <tr>\n",
              "      <th>...</th>\n",
              "      <td>...</td>\n",
              "      <td>...</td>\n",
              "      <td>...</td>\n",
              "      <td>...</td>\n",
              "      <td>...</td>\n",
              "      <td>...</td>\n",
              "      <td>...</td>\n",
              "      <td>...</td>\n",
              "    </tr>\n",
              "    <tr>\n",
              "      <th>541904</th>\n",
              "      <td>581587</td>\n",
              "      <td>22613</td>\n",
              "      <td>PACK OF 20 SPACEBOY NAPKINS</td>\n",
              "      <td>12</td>\n",
              "      <td>12/9/2011 12:50</td>\n",
              "      <td>0.85</td>\n",
              "      <td>12680</td>\n",
              "      <td>France</td>\n",
              "    </tr>\n",
              "    <tr>\n",
              "      <th>541905</th>\n",
              "      <td>581587</td>\n",
              "      <td>22899</td>\n",
              "      <td>CHILDREN'S APRON DOLLY GIRL</td>\n",
              "      <td>6</td>\n",
              "      <td>12/9/2011 12:50</td>\n",
              "      <td>2.10</td>\n",
              "      <td>12680</td>\n",
              "      <td>France</td>\n",
              "    </tr>\n",
              "    <tr>\n",
              "      <th>541906</th>\n",
              "      <td>581587</td>\n",
              "      <td>23254</td>\n",
              "      <td>CHILDRENS CUTLERY DOLLY GIRL</td>\n",
              "      <td>4</td>\n",
              "      <td>12/9/2011 12:50</td>\n",
              "      <td>4.15</td>\n",
              "      <td>12680</td>\n",
              "      <td>France</td>\n",
              "    </tr>\n",
              "    <tr>\n",
              "      <th>541907</th>\n",
              "      <td>581587</td>\n",
              "      <td>23255</td>\n",
              "      <td>CHILDRENS CUTLERY CIRCUS PARADE</td>\n",
              "      <td>4</td>\n",
              "      <td>12/9/2011 12:50</td>\n",
              "      <td>4.15</td>\n",
              "      <td>12680</td>\n",
              "      <td>France</td>\n",
              "    </tr>\n",
              "    <tr>\n",
              "      <th>541908</th>\n",
              "      <td>581587</td>\n",
              "      <td>22138</td>\n",
              "      <td>BAKING SET 9 PIECE RETROSPOT</td>\n",
              "      <td>3</td>\n",
              "      <td>12/9/2011 12:50</td>\n",
              "      <td>4.95</td>\n",
              "      <td>12680</td>\n",
              "      <td>France</td>\n",
              "    </tr>\n",
              "  </tbody>\n",
              "</table>\n",
              "<p>541909 rows × 8 columns</p>\n",
              "</div>"
            ],
            "text/plain": [
              "       InvoiceNo StockCode  ... CustomerID         Country\n",
              "0         536365    85123A  ...      17850  United Kingdom\n",
              "1         536365     71053  ...      17850  United Kingdom\n",
              "2         536365    84406B  ...      17850  United Kingdom\n",
              "3         536365    84029G  ...      17850  United Kingdom\n",
              "4         536365    84029E  ...      17850  United Kingdom\n",
              "...          ...       ...  ...        ...             ...\n",
              "541904    581587     22613  ...      12680          France\n",
              "541905    581587     22899  ...      12680          France\n",
              "541906    581587     23254  ...      12680          France\n",
              "541907    581587     23255  ...      12680          France\n",
              "541908    581587     22138  ...      12680          France\n",
              "\n",
              "[541909 rows x 8 columns]"
            ]
          },
          "metadata": {
            "tags": []
          },
          "execution_count": 7
        }
      ]
    },
    {
      "cell_type": "code",
      "metadata": {
        "colab": {
          "base_uri": "https://localhost:8080/"
        },
        "id": "8KgBoLDN1sgZ",
        "outputId": "56a02ad5-8289-44a6-90f5-9fd9abd92997"
      },
      "source": [
        " #missing values\n",
        " data.isnull().sum() / data.shape[0] * 100\n"
      ],
      "execution_count": 9,
      "outputs": [
        {
          "output_type": "execute_result",
          "data": {
            "text/plain": [
              "InvoiceNo       0.000000\n",
              "StockCode       0.000000\n",
              "Description     0.268311\n",
              "Quantity        0.000000\n",
              "InvoiceDate     0.000000\n",
              "UnitPrice       0.000000\n",
              "CustomerID     24.926694\n",
              "Country         0.000000\n",
              "dtype: float64"
            ]
          },
          "metadata": {
            "tags": []
          },
          "execution_count": 9
        }
      ]
    },
    {
      "cell_type": "code",
      "metadata": {
        "colab": {
          "base_uri": "https://localhost:8080/"
        },
        "id": "V8XAZzNR4XXs",
        "outputId": "1dda1b78-8818-4460-82ce-fb69aa17d94a"
      },
      "source": [
        "data.dtypes"
      ],
      "execution_count": 10,
      "outputs": [
        {
          "output_type": "execute_result",
          "data": {
            "text/plain": [
              "InvoiceNo       object\n",
              "StockCode       object\n",
              "Description     object\n",
              "Quantity         int64\n",
              "InvoiceDate     object\n",
              "UnitPrice      float64\n",
              "CustomerID      object\n",
              "Country         object\n",
              "dtype: object"
            ]
          },
          "metadata": {
            "tags": []
          },
          "execution_count": 10
        }
      ]
    },
    {
      "cell_type": "code",
      "metadata": {
        "id": "K2IhVyAB1-bU"
      },
      "source": [
        "data['Description'] = data['Description'].str.strip()\n",
        "data['InvoiceNo'] = data['InvoiceNo'].astype('str')\n",
        "data= data[~data['InvoiceNo'].str.contains('C')]"
      ],
      "execution_count": 11,
      "outputs": []
    },
    {
      "cell_type": "code",
      "metadata": {
        "colab": {
          "base_uri": "https://localhost:8080/"
        },
        "id": "-_2YsUCD31in",
        "outputId": "b7e006d6-19d3-4663-bb11-594c8d6fdce5"
      },
      "source": [
        "data.isnull().sum() / data.shape[0] * 100"
      ],
      "execution_count": 12,
      "outputs": [
        {
          "output_type": "execute_result",
          "data": {
            "text/plain": [
              "InvoiceNo       0.000000\n",
              "StockCode       0.000000\n",
              "Description     0.272990\n",
              "Quantity        0.000000\n",
              "InvoiceDate     0.000000\n",
              "UnitPrice       0.000000\n",
              "CustomerID     25.289465\n",
              "Country         0.000000\n",
              "dtype: float64"
            ]
          },
          "metadata": {
            "tags": []
          },
          "execution_count": 12
        }
      ]
    },
    {
      "cell_type": "code",
      "metadata": {
        "colab": {
          "base_uri": "https://localhost:8080/"
        },
        "id": "5XUuFgGf4t65",
        "outputId": "87c28282-a1f2-4342-ad63-cfea2808a8f0"
      },
      "source": [
        "data.shape"
      ],
      "execution_count": 13,
      "outputs": [
        {
          "output_type": "execute_result",
          "data": {
            "text/plain": [
              "(532621, 8)"
            ]
          },
          "metadata": {
            "tags": []
          },
          "execution_count": 13
        }
      ]
    },
    {
      "cell_type": "code",
      "metadata": {
        "colab": {
          "base_uri": "https://localhost:8080/",
          "height": 284
        },
        "id": "j-Zduwyh46u0",
        "outputId": "54cdc79b-eb7c-4ea7-f33f-b66420b0e921"
      },
      "source": [
        "data.describe()"
      ],
      "execution_count": 14,
      "outputs": [
        {
          "output_type": "execute_result",
          "data": {
            "text/html": [
              "<div>\n",
              "<style scoped>\n",
              "    .dataframe tbody tr th:only-of-type {\n",
              "        vertical-align: middle;\n",
              "    }\n",
              "\n",
              "    .dataframe tbody tr th {\n",
              "        vertical-align: top;\n",
              "    }\n",
              "\n",
              "    .dataframe thead th {\n",
              "        text-align: right;\n",
              "    }\n",
              "</style>\n",
              "<table border=\"1\" class=\"dataframe\">\n",
              "  <thead>\n",
              "    <tr style=\"text-align: right;\">\n",
              "      <th></th>\n",
              "      <th>Quantity</th>\n",
              "      <th>UnitPrice</th>\n",
              "    </tr>\n",
              "  </thead>\n",
              "  <tbody>\n",
              "    <tr>\n",
              "      <th>count</th>\n",
              "      <td>532621.000000</td>\n",
              "      <td>532621.000000</td>\n",
              "    </tr>\n",
              "    <tr>\n",
              "      <th>mean</th>\n",
              "      <td>10.239972</td>\n",
              "      <td>3.847621</td>\n",
              "    </tr>\n",
              "    <tr>\n",
              "      <th>std</th>\n",
              "      <td>159.593551</td>\n",
              "      <td>41.758023</td>\n",
              "    </tr>\n",
              "    <tr>\n",
              "      <th>min</th>\n",
              "      <td>-9600.000000</td>\n",
              "      <td>-11062.060000</td>\n",
              "    </tr>\n",
              "    <tr>\n",
              "      <th>25%</th>\n",
              "      <td>1.000000</td>\n",
              "      <td>1.250000</td>\n",
              "    </tr>\n",
              "    <tr>\n",
              "      <th>50%</th>\n",
              "      <td>3.000000</td>\n",
              "      <td>2.080000</td>\n",
              "    </tr>\n",
              "    <tr>\n",
              "      <th>75%</th>\n",
              "      <td>10.000000</td>\n",
              "      <td>4.130000</td>\n",
              "    </tr>\n",
              "    <tr>\n",
              "      <th>max</th>\n",
              "      <td>80995.000000</td>\n",
              "      <td>13541.330000</td>\n",
              "    </tr>\n",
              "  </tbody>\n",
              "</table>\n",
              "</div>"
            ],
            "text/plain": [
              "            Quantity      UnitPrice\n",
              "count  532621.000000  532621.000000\n",
              "mean       10.239972       3.847621\n",
              "std       159.593551      41.758023\n",
              "min     -9600.000000  -11062.060000\n",
              "25%         1.000000       1.250000\n",
              "50%         3.000000       2.080000\n",
              "75%        10.000000       4.130000\n",
              "max     80995.000000   13541.330000"
            ]
          },
          "metadata": {
            "tags": []
          },
          "execution_count": 14
        }
      ]
    },
    {
      "cell_type": "code",
      "metadata": {
        "id": "B81exX3P5eWY"
      },
      "source": [
        "#quantity and price can't be -ve\n",
        "data = data.loc[data.UnitPrice > 0].copy()\n",
        "data = data.loc[data.Quantity > 0].copy()"
      ],
      "execution_count": 15,
      "outputs": []
    },
    {
      "cell_type": "code",
      "metadata": {
        "colab": {
          "base_uri": "https://localhost:8080/"
        },
        "id": "76GrWHag6ae5",
        "outputId": "1ede6058-2708-429e-f5b6-99f1fbf29906"
      },
      "source": [
        "#convert to datetime\n",
        "data[\"InvoiceDate\"] = pd.to_datetime(data.InvoiceDate, cache=True)\n",
        "data.InvoiceDate.dtype"
      ],
      "execution_count": 16,
      "outputs": [
        {
          "output_type": "execute_result",
          "data": {
            "text/plain": [
              "dtype('<M8[ns]')"
            ]
          },
          "metadata": {
            "tags": []
          },
          "execution_count": 16
        }
      ]
    },
    {
      "cell_type": "code",
      "metadata": {
        "id": "sbk3j_Kw5us0"
      },
      "source": [
        "data[\"Revenue\"] = data.Quantity * data.UnitPrice\n",
        "data[\"Year\"] = data.InvoiceDate.dt.year\n",
        "data[\"Quarter\"] = data.InvoiceDate.dt.quarter\n",
        "data[\"Month\"] = data.InvoiceDate.dt.month\n",
        "data[\"Week\"] = data.InvoiceDate.dt.week\n",
        "data[\"Weekday\"] = data.InvoiceDate.dt.weekday\n",
        "data[\"Day\"] = data.InvoiceDate.dt.day\n",
        "data[\"Dayofyear\"] = data.InvoiceDate.dt.dayofyear\n",
        "data[\"Date\"] = pd.to_datetime(data[['Year', 'Month', 'Day']])"
      ],
      "execution_count": 17,
      "outputs": []
    },
    {
      "cell_type": "code",
      "metadata": {
        "colab": {
          "base_uri": "https://localhost:8080/",
          "height": 838
        },
        "id": "IOACck8_5xNI",
        "outputId": "54eed6e1-6f2e-469c-b32b-050c12b5c16c"
      },
      "source": [
        "data"
      ],
      "execution_count": 18,
      "outputs": [
        {
          "output_type": "execute_result",
          "data": {
            "text/html": [
              "<div>\n",
              "<style scoped>\n",
              "    .dataframe tbody tr th:only-of-type {\n",
              "        vertical-align: middle;\n",
              "    }\n",
              "\n",
              "    .dataframe tbody tr th {\n",
              "        vertical-align: top;\n",
              "    }\n",
              "\n",
              "    .dataframe thead th {\n",
              "        text-align: right;\n",
              "    }\n",
              "</style>\n",
              "<table border=\"1\" class=\"dataframe\">\n",
              "  <thead>\n",
              "    <tr style=\"text-align: right;\">\n",
              "      <th></th>\n",
              "      <th>InvoiceNo</th>\n",
              "      <th>StockCode</th>\n",
              "      <th>Description</th>\n",
              "      <th>Quantity</th>\n",
              "      <th>InvoiceDate</th>\n",
              "      <th>UnitPrice</th>\n",
              "      <th>CustomerID</th>\n",
              "      <th>Country</th>\n",
              "      <th>Revenue</th>\n",
              "      <th>Year</th>\n",
              "      <th>Quarter</th>\n",
              "      <th>Month</th>\n",
              "      <th>Week</th>\n",
              "      <th>Weekday</th>\n",
              "      <th>Day</th>\n",
              "      <th>Dayofyear</th>\n",
              "      <th>Date</th>\n",
              "    </tr>\n",
              "  </thead>\n",
              "  <tbody>\n",
              "    <tr>\n",
              "      <th>0</th>\n",
              "      <td>536365</td>\n",
              "      <td>85123A</td>\n",
              "      <td>WHITE HANGING HEART T-LIGHT HOLDER</td>\n",
              "      <td>6</td>\n",
              "      <td>2010-12-01 08:26:00</td>\n",
              "      <td>2.55</td>\n",
              "      <td>17850</td>\n",
              "      <td>United Kingdom</td>\n",
              "      <td>15.30</td>\n",
              "      <td>2010</td>\n",
              "      <td>4</td>\n",
              "      <td>12</td>\n",
              "      <td>48</td>\n",
              "      <td>2</td>\n",
              "      <td>1</td>\n",
              "      <td>335</td>\n",
              "      <td>2010-12-01</td>\n",
              "    </tr>\n",
              "    <tr>\n",
              "      <th>1</th>\n",
              "      <td>536365</td>\n",
              "      <td>71053</td>\n",
              "      <td>WHITE METAL LANTERN</td>\n",
              "      <td>6</td>\n",
              "      <td>2010-12-01 08:26:00</td>\n",
              "      <td>3.39</td>\n",
              "      <td>17850</td>\n",
              "      <td>United Kingdom</td>\n",
              "      <td>20.34</td>\n",
              "      <td>2010</td>\n",
              "      <td>4</td>\n",
              "      <td>12</td>\n",
              "      <td>48</td>\n",
              "      <td>2</td>\n",
              "      <td>1</td>\n",
              "      <td>335</td>\n",
              "      <td>2010-12-01</td>\n",
              "    </tr>\n",
              "    <tr>\n",
              "      <th>2</th>\n",
              "      <td>536365</td>\n",
              "      <td>84406B</td>\n",
              "      <td>CREAM CUPID HEARTS COAT HANGER</td>\n",
              "      <td>8</td>\n",
              "      <td>2010-12-01 08:26:00</td>\n",
              "      <td>2.75</td>\n",
              "      <td>17850</td>\n",
              "      <td>United Kingdom</td>\n",
              "      <td>22.00</td>\n",
              "      <td>2010</td>\n",
              "      <td>4</td>\n",
              "      <td>12</td>\n",
              "      <td>48</td>\n",
              "      <td>2</td>\n",
              "      <td>1</td>\n",
              "      <td>335</td>\n",
              "      <td>2010-12-01</td>\n",
              "    </tr>\n",
              "    <tr>\n",
              "      <th>3</th>\n",
              "      <td>536365</td>\n",
              "      <td>84029G</td>\n",
              "      <td>KNITTED UNION FLAG HOT WATER BOTTLE</td>\n",
              "      <td>6</td>\n",
              "      <td>2010-12-01 08:26:00</td>\n",
              "      <td>3.39</td>\n",
              "      <td>17850</td>\n",
              "      <td>United Kingdom</td>\n",
              "      <td>20.34</td>\n",
              "      <td>2010</td>\n",
              "      <td>4</td>\n",
              "      <td>12</td>\n",
              "      <td>48</td>\n",
              "      <td>2</td>\n",
              "      <td>1</td>\n",
              "      <td>335</td>\n",
              "      <td>2010-12-01</td>\n",
              "    </tr>\n",
              "    <tr>\n",
              "      <th>4</th>\n",
              "      <td>536365</td>\n",
              "      <td>84029E</td>\n",
              "      <td>RED WOOLLY HOTTIE WHITE HEART.</td>\n",
              "      <td>6</td>\n",
              "      <td>2010-12-01 08:26:00</td>\n",
              "      <td>3.39</td>\n",
              "      <td>17850</td>\n",
              "      <td>United Kingdom</td>\n",
              "      <td>20.34</td>\n",
              "      <td>2010</td>\n",
              "      <td>4</td>\n",
              "      <td>12</td>\n",
              "      <td>48</td>\n",
              "      <td>2</td>\n",
              "      <td>1</td>\n",
              "      <td>335</td>\n",
              "      <td>2010-12-01</td>\n",
              "    </tr>\n",
              "    <tr>\n",
              "      <th>...</th>\n",
              "      <td>...</td>\n",
              "      <td>...</td>\n",
              "      <td>...</td>\n",
              "      <td>...</td>\n",
              "      <td>...</td>\n",
              "      <td>...</td>\n",
              "      <td>...</td>\n",
              "      <td>...</td>\n",
              "      <td>...</td>\n",
              "      <td>...</td>\n",
              "      <td>...</td>\n",
              "      <td>...</td>\n",
              "      <td>...</td>\n",
              "      <td>...</td>\n",
              "      <td>...</td>\n",
              "      <td>...</td>\n",
              "      <td>...</td>\n",
              "    </tr>\n",
              "    <tr>\n",
              "      <th>541904</th>\n",
              "      <td>581587</td>\n",
              "      <td>22613</td>\n",
              "      <td>PACK OF 20 SPACEBOY NAPKINS</td>\n",
              "      <td>12</td>\n",
              "      <td>2011-12-09 12:50:00</td>\n",
              "      <td>0.85</td>\n",
              "      <td>12680</td>\n",
              "      <td>France</td>\n",
              "      <td>10.20</td>\n",
              "      <td>2011</td>\n",
              "      <td>4</td>\n",
              "      <td>12</td>\n",
              "      <td>49</td>\n",
              "      <td>4</td>\n",
              "      <td>9</td>\n",
              "      <td>343</td>\n",
              "      <td>2011-12-09</td>\n",
              "    </tr>\n",
              "    <tr>\n",
              "      <th>541905</th>\n",
              "      <td>581587</td>\n",
              "      <td>22899</td>\n",
              "      <td>CHILDREN'S APRON DOLLY GIRL</td>\n",
              "      <td>6</td>\n",
              "      <td>2011-12-09 12:50:00</td>\n",
              "      <td>2.10</td>\n",
              "      <td>12680</td>\n",
              "      <td>France</td>\n",
              "      <td>12.60</td>\n",
              "      <td>2011</td>\n",
              "      <td>4</td>\n",
              "      <td>12</td>\n",
              "      <td>49</td>\n",
              "      <td>4</td>\n",
              "      <td>9</td>\n",
              "      <td>343</td>\n",
              "      <td>2011-12-09</td>\n",
              "    </tr>\n",
              "    <tr>\n",
              "      <th>541906</th>\n",
              "      <td>581587</td>\n",
              "      <td>23254</td>\n",
              "      <td>CHILDRENS CUTLERY DOLLY GIRL</td>\n",
              "      <td>4</td>\n",
              "      <td>2011-12-09 12:50:00</td>\n",
              "      <td>4.15</td>\n",
              "      <td>12680</td>\n",
              "      <td>France</td>\n",
              "      <td>16.60</td>\n",
              "      <td>2011</td>\n",
              "      <td>4</td>\n",
              "      <td>12</td>\n",
              "      <td>49</td>\n",
              "      <td>4</td>\n",
              "      <td>9</td>\n",
              "      <td>343</td>\n",
              "      <td>2011-12-09</td>\n",
              "    </tr>\n",
              "    <tr>\n",
              "      <th>541907</th>\n",
              "      <td>581587</td>\n",
              "      <td>23255</td>\n",
              "      <td>CHILDRENS CUTLERY CIRCUS PARADE</td>\n",
              "      <td>4</td>\n",
              "      <td>2011-12-09 12:50:00</td>\n",
              "      <td>4.15</td>\n",
              "      <td>12680</td>\n",
              "      <td>France</td>\n",
              "      <td>16.60</td>\n",
              "      <td>2011</td>\n",
              "      <td>4</td>\n",
              "      <td>12</td>\n",
              "      <td>49</td>\n",
              "      <td>4</td>\n",
              "      <td>9</td>\n",
              "      <td>343</td>\n",
              "      <td>2011-12-09</td>\n",
              "    </tr>\n",
              "    <tr>\n",
              "      <th>541908</th>\n",
              "      <td>581587</td>\n",
              "      <td>22138</td>\n",
              "      <td>BAKING SET 9 PIECE RETROSPOT</td>\n",
              "      <td>3</td>\n",
              "      <td>2011-12-09 12:50:00</td>\n",
              "      <td>4.95</td>\n",
              "      <td>12680</td>\n",
              "      <td>France</td>\n",
              "      <td>14.85</td>\n",
              "      <td>2011</td>\n",
              "      <td>4</td>\n",
              "      <td>12</td>\n",
              "      <td>49</td>\n",
              "      <td>4</td>\n",
              "      <td>9</td>\n",
              "      <td>343</td>\n",
              "      <td>2011-12-09</td>\n",
              "    </tr>\n",
              "  </tbody>\n",
              "</table>\n",
              "<p>530104 rows × 17 columns</p>\n",
              "</div>"
            ],
            "text/plain": [
              "       InvoiceNo StockCode  ... Dayofyear       Date\n",
              "0         536365    85123A  ...       335 2010-12-01\n",
              "1         536365     71053  ...       335 2010-12-01\n",
              "2         536365    84406B  ...       335 2010-12-01\n",
              "3         536365    84029G  ...       335 2010-12-01\n",
              "4         536365    84029E  ...       335 2010-12-01\n",
              "...          ...       ...  ...       ...        ...\n",
              "541904    581587     22613  ...       343 2011-12-09\n",
              "541905    581587     22899  ...       343 2011-12-09\n",
              "541906    581587     23254  ...       343 2011-12-09\n",
              "541907    581587     23255  ...       343 2011-12-09\n",
              "541908    581587     22138  ...       343 2011-12-09\n",
              "\n",
              "[530104 rows x 17 columns]"
            ]
          },
          "metadata": {
            "tags": []
          },
          "execution_count": 18
        }
      ]
    },
    {
      "cell_type": "markdown",
      "metadata": {
        "id": "ixvVEy_VY7Zb"
      },
      "source": [
        "##We need product sales , so only **stock code** is used \n"
      ]
    },
    {
      "cell_type": "code",
      "metadata": {
        "id": "iELpHMu16lJ-"
      },
      "source": [
        "grouped_features = [\"Date\", \"Year\", \"Quarter\",\"Month\", \"Week\", \"Weekday\", \"Dayofyear\", \"Day\",\n",
        "                    \"StockCode\"]"
      ],
      "execution_count": 19,
      "outputs": []
    },
    {
      "cell_type": "code",
      "metadata": {
        "colab": {
          "base_uri": "https://localhost:8080/",
          "height": 195
        },
        "id": "PNkovNFe7DDE",
        "outputId": "af59d0e9-c562-4be3-c600-88049d63f2c7"
      },
      "source": [
        "daily_data = pd.DataFrame(data.groupby(grouped_features).Quantity.sum(),\n",
        "                          columns=[\"Quantity\"])\n",
        "daily_data[\"Revenue\"] = data.groupby(grouped_features).Revenue.sum()\n",
        "daily_data = daily_data.reset_index()\n",
        "daily_data.head(5)"
      ],
      "execution_count": 20,
      "outputs": [
        {
          "output_type": "execute_result",
          "data": {
            "text/html": [
              "<div>\n",
              "<style scoped>\n",
              "    .dataframe tbody tr th:only-of-type {\n",
              "        vertical-align: middle;\n",
              "    }\n",
              "\n",
              "    .dataframe tbody tr th {\n",
              "        vertical-align: top;\n",
              "    }\n",
              "\n",
              "    .dataframe thead th {\n",
              "        text-align: right;\n",
              "    }\n",
              "</style>\n",
              "<table border=\"1\" class=\"dataframe\">\n",
              "  <thead>\n",
              "    <tr style=\"text-align: right;\">\n",
              "      <th></th>\n",
              "      <th>Date</th>\n",
              "      <th>Year</th>\n",
              "      <th>Quarter</th>\n",
              "      <th>Month</th>\n",
              "      <th>Week</th>\n",
              "      <th>Weekday</th>\n",
              "      <th>Dayofyear</th>\n",
              "      <th>Day</th>\n",
              "      <th>StockCode</th>\n",
              "      <th>Quantity</th>\n",
              "      <th>Revenue</th>\n",
              "    </tr>\n",
              "  </thead>\n",
              "  <tbody>\n",
              "    <tr>\n",
              "      <th>0</th>\n",
              "      <td>2010-12-01</td>\n",
              "      <td>2010</td>\n",
              "      <td>4</td>\n",
              "      <td>12</td>\n",
              "      <td>48</td>\n",
              "      <td>2</td>\n",
              "      <td>335</td>\n",
              "      <td>1</td>\n",
              "      <td>10002</td>\n",
              "      <td>60</td>\n",
              "      <td>51.00</td>\n",
              "    </tr>\n",
              "    <tr>\n",
              "      <th>1</th>\n",
              "      <td>2010-12-01</td>\n",
              "      <td>2010</td>\n",
              "      <td>4</td>\n",
              "      <td>12</td>\n",
              "      <td>48</td>\n",
              "      <td>2</td>\n",
              "      <td>335</td>\n",
              "      <td>1</td>\n",
              "      <td>10125</td>\n",
              "      <td>2</td>\n",
              "      <td>1.70</td>\n",
              "    </tr>\n",
              "    <tr>\n",
              "      <th>2</th>\n",
              "      <td>2010-12-01</td>\n",
              "      <td>2010</td>\n",
              "      <td>4</td>\n",
              "      <td>12</td>\n",
              "      <td>48</td>\n",
              "      <td>2</td>\n",
              "      <td>335</td>\n",
              "      <td>1</td>\n",
              "      <td>10133</td>\n",
              "      <td>5</td>\n",
              "      <td>4.25</td>\n",
              "    </tr>\n",
              "    <tr>\n",
              "      <th>3</th>\n",
              "      <td>2010-12-01</td>\n",
              "      <td>2010</td>\n",
              "      <td>4</td>\n",
              "      <td>12</td>\n",
              "      <td>48</td>\n",
              "      <td>2</td>\n",
              "      <td>335</td>\n",
              "      <td>1</td>\n",
              "      <td>10135</td>\n",
              "      <td>1</td>\n",
              "      <td>2.51</td>\n",
              "    </tr>\n",
              "    <tr>\n",
              "      <th>4</th>\n",
              "      <td>2010-12-01</td>\n",
              "      <td>2010</td>\n",
              "      <td>4</td>\n",
              "      <td>12</td>\n",
              "      <td>48</td>\n",
              "      <td>2</td>\n",
              "      <td>335</td>\n",
              "      <td>1</td>\n",
              "      <td>11001</td>\n",
              "      <td>3</td>\n",
              "      <td>10.08</td>\n",
              "    </tr>\n",
              "  </tbody>\n",
              "</table>\n",
              "</div>"
            ],
            "text/plain": [
              "        Date  Year  Quarter  Month  ...  Day  StockCode  Quantity  Revenue\n",
              "0 2010-12-01  2010        4     12  ...    1      10002        60    51.00\n",
              "1 2010-12-01  2010        4     12  ...    1      10125         2     1.70\n",
              "2 2010-12-01  2010        4     12  ...    1      10133         5     4.25\n",
              "3 2010-12-01  2010        4     12  ...    1      10135         1     2.51\n",
              "4 2010-12-01  2010        4     12  ...    1      11001         3    10.08\n",
              "\n",
              "[5 rows x 11 columns]"
            ]
          },
          "metadata": {
            "tags": []
          },
          "execution_count": 20
        }
      ]
    },
    {
      "cell_type": "code",
      "metadata": {
        "colab": {
          "base_uri": "https://localhost:8080/"
        },
        "id": "_KsHcM97oGpK",
        "outputId": "8fd6b509-292f-4e6f-fde0-81ee5c3dd558"
      },
      "source": [
        "low_quantity = daily_data.Quantity.quantile(0.01)\n",
        "high_quantity = daily_data.Quantity.quantile(0.99)\n",
        "print((low_quantity, high_quantity))"
      ],
      "execution_count": 24,
      "outputs": [
        {
          "output_type": "stream",
          "text": [
            "(1.0, 209.0)\n"
          ],
          "name": "stdout"
        }
      ]
    },
    {
      "cell_type": "code",
      "metadata": {
        "colab": {
          "base_uri": "https://localhost:8080/"
        },
        "id": "yQJup9MXoH9F",
        "outputId": "191d48ce-a3d0-41d2-a210-8bbd1d9b0bc4"
      },
      "source": [
        "low_revenue = daily_data.Revenue.quantile(0.01)\n",
        "high_revenue = daily_data.Revenue.quantile(0.99)\n",
        "print(low_revenue, high_revenue)"
      ],
      "execution_count": 26,
      "outputs": [
        {
          "output_type": "stream",
          "text": [
            "0.79 387.0917999999982\n"
          ],
          "name": "stdout"
        }
      ]
    },
    {
      "cell_type": "code",
      "metadata": {
        "id": "TrXzvng1oKd-"
      },
      "source": [
        "#Removing extreme values\n",
        "daily_data = daily_data.loc[\n",
        "    (daily_data.Quantity >= low_quantity) & (daily_data.Quantity <= high_quantity)]\n",
        "daily_data = daily_data.loc[\n",
        "    (daily_data.Revenue >= low_revenue) & (daily_data.Revenue <= high_revenue)]"
      ],
      "execution_count": 27,
      "outputs": []
    },
    {
      "cell_type": "code",
      "metadata": {
        "id": "d2t6CFoE7Sw7",
        "colab": {
          "base_uri": "https://localhost:8080/",
          "height": 350
        },
        "outputId": "d633c666-696e-41b7-807e-c49741ba08dc"
      },
      "source": [
        "fig, ax = plt.subplots(1,2,figsize=(20,5))\n",
        "sns.distplot(daily_data.Quantity.values, kde=True, ax=ax[0], color=\"Green\", bins=30);\n",
        "sns.distplot(np.log(daily_data.Quantity.values), kde=True, ax=ax[1], color=\"Green\", bins=30);\n",
        "ax[0].set_xlabel(\"Number of daily product sales\");\n",
        "ax[0].set_ylabel(\"Frequency\");\n",
        "ax[0].set_title(\"How many products are sold per day?\");"
      ],
      "execution_count": 28,
      "outputs": [
        {
          "output_type": "display_data",
          "data": {
            "image/png": "[encoded data removed]",
            "text/plain": [
              "<Figure size 1440x360 with 2 Axes>"
            ]
          },
          "metadata": {
            "tags": [],
            "needs_background": "light"
          }
        }
      ]
    },
    {
      "cell_type": "code",
      "metadata": {
        "id": "aXgo4GjvqAjo"
      },
      "source": [
        "def product(stock_code):\n",
        "  temp = daily_data[daily_data[\"StockCode\"]==stock_code][['Date','Quantity']]\n",
        "  plt.plot(temp.Date.values, temp.Quantity.values ,color=\"Blue\")\n",
        "  plt.xlabel(\"Date\");\n",
        "  plt.ylabel(\"Quantity\");\n",
        "  plt.title(\"How products of stockcode : \" + stock_code +\" are sold ?\");"
      ],
      "execution_count": 77,
      "outputs": []
    },
    {
      "cell_type": "code",
      "metadata": {
        "colab": {
          "base_uri": "https://localhost:8080/",
          "height": 312
        },
        "id": "eQoGbJgLrSMj",
        "outputId": "a18e3603-5aba-46af-f434-14dde556821d"
      },
      "source": [
        "x = input(\"Enter stock code of product : \")\n",
        "product(x)"
      ],
      "execution_count": 78,
      "outputs": [
        {
          "output_type": "stream",
          "text": [
            "Enter stock code of product : 10002\n"
          ],
          "name": "stdout"
        },
        {
          "output_type": "display_data",
          "data": {
            "image/png": "[encoded data removed]",
            "text/plain": [
              "<Figure size 432x288 with 1 Axes>"
            ]
          },
          "metadata": {
            "tags": [],
            "needs_background": "light"
          }
        }
      ]
    },
    {
      "cell_type": "code",
      "metadata": {
        "colab": {
          "base_uri": "https://localhost:8080/"
        },
        "id": "nbAr6bFVriMQ",
        "outputId": "c88b56f4-cd7d-4814-ce15-67bd73caf062"
      },
      "source": [
        "print(daily_data.Date.max(),daily_data.Date.min())\n",
        "print((daily_data.Date.max()-daily_data.Date.min()))"
      ],
      "execution_count": 79,
      "outputs": [
        {
          "output_type": "stream",
          "text": [
            "2011-12-09 00:00:00 2010-12-01 00:00:00\n",
            "373 days 00:00:00\n"
          ],
          "name": "stdout"
        }
      ]
    },
    {
      "cell_type": "code",
      "metadata": {
        "colab": {
          "base_uri": "https://localhost:8080/"
        },
        "id": "zm9mqZ9pEP9j",
        "outputId": "b05c1370-0199-4359-a064-f5b5cad678d8"
      },
      "source": [
        "print(daily_data[\"StockCode\"].value_counts())\n",
        "stockCode = \"22457\"\n",
        "#22457 stock code has highest data for transactions , hence forecasting in done for sales of product eith stock code : 22457"
      ],
      "execution_count": 146,
      "outputs": [
        {
          "output_type": "stream",
          "text": [
            "22457     295\n",
            "20727     291\n",
            "21080     289\n",
            "20728     289\n",
            "82482     289\n",
            "         ... \n",
            "72803b      1\n",
            "85115B      1\n",
            "90100       1\n",
            "84201B      1\n",
            "90026A      1\n",
            "Name: StockCode, Length: 3915, dtype: int64\n"
          ],
          "name": "stdout"
        }
      ]
    },
    {
      "cell_type": "code",
      "metadata": {
        "colab": {
          "base_uri": "https://localhost:8080/",
          "height": 195
        },
        "id": "69ZHDZVbxk5y",
        "outputId": "4b3bbc25-5355-4eb6-a96d-cf9ebf655446"
      },
      "source": [
        "#let data pe df\n",
        "data = daily_data[daily_data[\"StockCode\"]==stockCode].groupby('Date')['Quantity'].sum().reset_index()\n",
        "data.head()"
      ],
      "execution_count": 210,
      "outputs": [
        {
          "output_type": "execute_result",
          "data": {
            "text/html": [
              "<div>\n",
              "<style scoped>\n",
              "    .dataframe tbody tr th:only-of-type {\n",
              "        vertical-align: middle;\n",
              "    }\n",
              "\n",
              "    .dataframe tbody tr th {\n",
              "        vertical-align: top;\n",
              "    }\n",
              "\n",
              "    .dataframe thead th {\n",
              "        text-align: right;\n",
              "    }\n",
              "</style>\n",
              "<table border=\"1\" class=\"dataframe\">\n",
              "  <thead>\n",
              "    <tr style=\"text-align: right;\">\n",
              "      <th></th>\n",
              "      <th>Date</th>\n",
              "      <th>Quantity</th>\n",
              "    </tr>\n",
              "  </thead>\n",
              "  <tbody>\n",
              "    <tr>\n",
              "      <th>0</th>\n",
              "      <td>2010-12-01</td>\n",
              "      <td>38</td>\n",
              "    </tr>\n",
              "    <tr>\n",
              "      <th>1</th>\n",
              "      <td>2010-12-02</td>\n",
              "      <td>28</td>\n",
              "    </tr>\n",
              "    <tr>\n",
              "      <th>2</th>\n",
              "      <td>2010-12-03</td>\n",
              "      <td>28</td>\n",
              "    </tr>\n",
              "    <tr>\n",
              "      <th>3</th>\n",
              "      <td>2010-12-05</td>\n",
              "      <td>25</td>\n",
              "    </tr>\n",
              "    <tr>\n",
              "      <th>4</th>\n",
              "      <td>2010-12-06</td>\n",
              "      <td>43</td>\n",
              "    </tr>\n",
              "  </tbody>\n",
              "</table>\n",
              "</div>"
            ],
            "text/plain": [
              "        Date  Quantity\n",
              "0 2010-12-01        38\n",
              "1 2010-12-02        28\n",
              "2 2010-12-03        28\n",
              "3 2010-12-05        25\n",
              "4 2010-12-06        43"
            ]
          },
          "metadata": {
            "tags": []
          },
          "execution_count": 210
        }
      ]
    },
    {
      "cell_type": "code",
      "metadata": {
        "colab": {
          "base_uri": "https://localhost:8080/"
        },
        "id": "LSis1WpmzGmr",
        "outputId": "c3ae76da-3e79-4e4e-8725-db66225beafd"
      },
      "source": [
        "df = data.set_index('Date')\n",
        "df.index"
      ],
      "execution_count": 211,
      "outputs": [
        {
          "output_type": "execute_result",
          "data": {
            "text/plain": [
              "DatetimeIndex(['2010-12-01', '2010-12-02', '2010-12-03', '2010-12-05',\n",
              "               '2010-12-06', '2010-12-07', '2010-12-08', '2010-12-09',\n",
              "               '2010-12-10', '2010-12-12',\n",
              "               ...\n",
              "               '2011-11-28', '2011-11-29', '2011-11-30', '2011-12-01',\n",
              "               '2011-12-02', '2011-12-04', '2011-12-05', '2011-12-06',\n",
              "               '2011-12-08', '2011-12-09'],\n",
              "              dtype='datetime64[ns]', name='Date', length=295, freq=None)"
            ]
          },
          "metadata": {
            "tags": []
          },
          "execution_count": 211
        }
      ]
    },
    {
      "cell_type": "code",
      "metadata": {
        "colab": {
          "base_uri": "https://localhost:8080/"
        },
        "id": "VNRB3VI6yi41",
        "outputId": "d7a890c7-2d73-45b5-d1ef-9dec1e197fd5"
      },
      "source": [
        "#dividing it monthly , to show quantity sold each month\n",
        "y = df['Quantity'].resample('MS').mean()\n",
        "y"
      ],
      "execution_count": 212,
      "outputs": [
        {
          "output_type": "execute_result",
          "data": {
            "text/plain": [
              "Date\n",
              "2010-12-01    32.263158\n",
              "2011-01-01    33.375000\n",
              "2011-02-01    21.583333\n",
              "2011-03-01    32.884615\n",
              "2011-04-01    32.761905\n",
              "2011-05-01    21.708333\n",
              "2011-06-01    19.576923\n",
              "2011-07-01    30.920000\n",
              "2011-08-01    22.791667\n",
              "2011-09-01    27.040000\n",
              "2011-10-01    31.958333\n",
              "2011-11-01    30.961538\n",
              "2011-12-01    38.285714\n",
              "Freq: MS, Name: Quantity, dtype: float64"
            ]
          },
          "metadata": {
            "tags": []
          },
          "execution_count": 212
        }
      ]
    },
    {
      "cell_type": "code",
      "metadata": {
        "colab": {
          "base_uri": "https://localhost:8080/",
          "height": 525
        },
        "id": "kcu7KzvpRSt5",
        "outputId": "b0fc0c61-76de-474d-83f3-18968d7c6dab"
      },
      "source": [
        "y.plot()"
      ],
      "execution_count": 213,
      "outputs": [
        {
          "output_type": "execute_result",
          "data": {
            "text/plain": [
              "<matplotlib.axes._subplots.AxesSubplot at 0x7fbf9bf6ad50>"
            ]
          },
          "metadata": {
            "tags": []
          },
          "execution_count": 213
        },
        {
          "output_type": "display_data",
          "data": {
            "image/png": "[encoded data removed]",
            "text/plain": [
              "<Figure size 1296x576 with 1 Axes>"
            ]
          },
          "metadata": {
            "tags": [],
            "needs_background": "light"
          }
        }
      ]
    },
    {
      "cell_type": "markdown",
      "metadata": {
        "id": "JAWEUK7SWLE5"
      },
      "source": [
        "#**Time series forecasting with ARIMA**"
      ]
    },
    {
      "cell_type": "markdown",
      "metadata": {
        "id": "m3SfeYbucglv"
      },
      "source": [
        "ARIMA models are denoted with the notation ARIMA(p, d, q). These three parameters account for seasonality, trend, and noise in data"
      ]
    },
    {
      "cell_type": "code",
      "metadata": {
        "colab": {
          "base_uri": "https://localhost:8080/"
        },
        "id": "RWmXeyQLyjXa",
        "outputId": "fbbfa70a-1fe0-425a-b12c-9aa192bb9eeb"
      },
      "source": [
        "import itertools\n",
        "p = d = q = range(0, 2)\n",
        "pdq = list(itertools.product(p, d, q))\n",
        "seasonal_pdq = [(x[0], x[1], x[2], 12) for x in list(itertools.product(p, d, q))]\n",
        "\n",
        "print('Examples of parameter combinations for Seasonal ARIMA...')\n",
        "print('SARIMAX: {} x {}'.format(pdq[1], seasonal_pdq[1]))\n",
        "print('SARIMAX: {} x {}'.format(pdq[1], seasonal_pdq[2]))\n",
        "print('SARIMAX: {} x {}'.format(pdq[2], seasonal_pdq[3]))\n",
        "print('SARIMAX: {} x {}'.format(pdq[2], seasonal_pdq[4]))"
      ],
      "execution_count": 214,
      "outputs": [
        {
          "output_type": "stream",
          "text": [
            "Examples of parameter combinations for Seasonal ARIMA...\n",
            "SARIMAX: (0, 0, 1) x (0, 0, 1, 12)\n",
            "SARIMAX: (0, 0, 1) x (0, 1, 0, 12)\n",
            "SARIMAX: (0, 1, 0) x (0, 1, 1, 12)\n",
            "SARIMAX: (0, 1, 0) x (1, 0, 0, 12)\n"
          ],
          "name": "stdout"
        }
      ]
    },
    {
      "cell_type": "markdown",
      "metadata": {
        "id": "vylU29faWyPe"
      },
      "source": [
        "####**Fitting ARIMA Model**\n",
        "*Forecasting for next 6 months*"
      ]
    },
    {
      "cell_type": "markdown",
      "metadata": {
        "id": "GZ84LAubcNKk"
      },
      "source": [
        "Using a **grid search** to find the optimal set of parameters that yields the best performance for our model"
      ]
    },
    {
      "cell_type": "code",
      "metadata": {
        "colab": {
          "base_uri": "https://localhost:8080/"
        },
        "id": "dZ-1Q0MW9QhN",
        "outputId": "1bec3d93-8ce1-4b96-cfac-2f27d848a726"
      },
      "source": [
        "for param in pdq:\n",
        "    for param_seasonal in seasonal_pdq:\n",
        "        try:\n",
        "          mod = sm.tsa.statespace.SARIMAX(y,order=param,seasonal_order=param_seasonal,enforce_stationarity=False,enforce_invertibility=False)\n",
        "          results = mod.fit()\n",
        "          print('ARIMA{}x{}12 - AIC:{}'.format(param, param_seasonal, results.aic))\n",
        "        except:\n",
        "            continue"
      ],
      "execution_count": 215,
      "outputs": [
        {
          "output_type": "stream",
          "text": [
            "ARIMA(0, 0, 0)x(0, 0, 0, 12)12 - AIC:117.04596273648838\n",
            "ARIMA(0, 0, 0)x(0, 1, 0, 12)12 - AIC:2.0\n",
            "ARIMA(0, 0, 0)x(1, 0, 0, 12)12 - AIC:-17.187973863531113\n",
            "ARIMA(0, 0, 1)x(0, 0, 0, 12)12 - AIC:98.13294607551174\n",
            "ARIMA(0, 0, 1)x(1, 0, 0, 12)12 - AIC:-11.04345873743489\n",
            "ARIMA(0, 1, 0)x(0, 0, 0, 12)12 - AIC:78.66521298347809\n",
            "ARIMA(0, 1, 0)x(0, 1, 0, 12)12 - AIC:2.0\n",
            "ARIMA(0, 1, 1)x(0, 0, 0, 12)12 - AIC:68.65841505323073\n",
            "ARIMA(1, 0, 0)x(0, 0, 0, 12)12 - AIC:86.58179553603242\n",
            "ARIMA(1, 0, 0)x(1, 0, 0, 12)12 - AIC:6.0\n",
            "ARIMA(1, 0, 1)x(0, 0, 0, 12)12 - AIC:78.29582726050313\n",
            "ARIMA(1, 0, 1)x(1, 0, 0, 12)12 - AIC:8.0\n",
            "ARIMA(1, 1, 0)x(0, 0, 0, 12)12 - AIC:78.72008106738608\n",
            "ARIMA(1, 1, 1)x(0, 0, 0, 12)12 - AIC:70.5841288599345\n"
          ],
          "name": "stdout"
        }
      ]
    },
    {
      "cell_type": "code",
      "metadata": {
        "colab": {
          "base_uri": "https://localhost:8080/"
        },
        "id": "3Adrcqa_9jvx",
        "outputId": "9586e356-7e11-489a-cfed-b3370d24bc75"
      },
      "source": [
        "#lowest AIC Value = (0,0,0) & (0,1,0)\n",
        "value1 , value2 = [0,0,0] , [0,1,0]\n",
        "mod = sm.tsa.statespace.SARIMAX(y,\n",
        "                                order=(0,0,0),\n",
        "                                seasonal_order=(0,1,0,12),\n",
        "                                enforce_stationarity=False,\n",
        "                                enforce_invertibility=False)\n",
        "\n",
        "results = mod.fit()\n",
        "\n",
        "print(results.summary().tables[1])"
      ],
      "execution_count": 216,
      "outputs": [
        {
          "output_type": "stream",
          "text": [
            "==============================================================================\n",
            "                 coef    std err          z      P>|z|      [0.025      0.975]\n",
            "------------------------------------------------------------------------------\n",
            "sigma2         2.7901         -0       -inf      0.000       2.790       2.790\n",
            "==============================================================================\n"
          ],
          "name": "stdout"
        }
      ]
    },
    {
      "cell_type": "code",
      "metadata": {
        "colab": {
          "base_uri": "https://localhost:8080/"
        },
        "id": "vsg7HUOs-Qp-",
        "outputId": "564ec74e-1803-470c-9c40-7ed0809cb41e"
      },
      "source": [
        "# results.plot_diagnostics(figsize=(16, 8))\n",
        "# plt.show()\n",
        "data.Date.max()"
      ],
      "execution_count": 217,
      "outputs": [
        {
          "output_type": "execute_result",
          "data": {
            "text/plain": [
              "Timestamp('2011-12-09 00:00:00')"
            ]
          },
          "metadata": {
            "tags": []
          },
          "execution_count": 217
        }
      ]
    },
    {
      "cell_type": "code",
      "metadata": {
        "colab": {
          "base_uri": "https://localhost:8080/",
          "height": 572
        },
        "id": "MTAz0C6E-ZEk",
        "outputId": "94838097-cb61-4d3d-f899-a62d15e8dfb6"
      },
      "source": [
        "pred = results.get_prediction(start=pd.to_datetime('2012-1-01'),end=pd.to_datetime('2012-6-01'),dynamic=False)\n",
        "\n",
        "pred_ci = pred.conf_int()\n",
        "print(pred_ci)\n",
        "ax = y['2011':].plot(label='observed')\n",
        "pred.predicted_mean.plot(ax=ax, label='One-step ahead Forecast', alpha=.7, figsize=(14, 7))\n",
        "\n",
        "ax.fill_between(pred_ci.index,\n",
        "                pred_ci.iloc[:, 0],\n",
        "                pred_ci.iloc[:, 1], color='k', alpha=.2)\n",
        "\n",
        "ax.set_xlabel('Date')\n",
        "ax.set_ylabel('Quantity')\n",
        "ax.set_label(\"Sales Forecasting\")\n",
        "plt.legend()\n",
        "\n",
        "plt.show()"
      ],
      "execution_count": 218,
      "outputs": [
        {
          "output_type": "stream",
          "text": [
            "            lower Quantity  upper Quantity\n",
            "2012-01-01       30.101161       36.648839\n",
            "2012-02-01       18.309495       24.857172\n",
            "2012-03-01       29.610777       36.158454\n",
            "2012-04-01       29.488066       36.035744\n",
            "2012-05-01       18.434495       24.982172\n",
            "2012-06-01       16.303084       22.850762\n"
          ],
          "name": "stdout"
        },
        {
          "output_type": "display_data",
          "data": {
            "image/png": "[encoded data removed]",
            "text/plain": [
              "<Figure size 1008x504 with 1 Axes>"
            ]
          },
          "metadata": {
            "tags": [],
            "needs_background": "light"
          }
        }
      ]
    },
    {
      "cell_type": "markdown",
      "metadata": {
        "id": "5d6ZIVONWnEE"
      },
      "source": [
        "#**Time Series Modeling with Prophet**\n",
        "*Forecasting for next 5 months*"
      ]
    },
    {
      "cell_type": "code",
      "metadata": {
        "colab": {
          "base_uri": "https://localhost:8080/",
          "height": 742
        },
        "id": "7zAQWn5l_3pd",
        "outputId": "de753d0b-f692-4d9d-cba5-abc62d05c58c"
      },
      "source": [
        "from fbprophet import Prophet\n",
        "\n",
        "data = data.rename(columns={'Date': 'ds', 'Quantity': 'y'})\n",
        "model = Prophet(interval_width=0.95)\n",
        "model.fit(data)\n",
        "\n",
        "\n",
        "forecast = model.make_future_dataframe(periods=5, freq='MS')\n",
        "forecast = model.predict(forecast)\n",
        "print(forecast)\n",
        "plt.figure(figsize=(18, 6))\n",
        "model.plot(forecast, xlabel = 'Date', ylabel = 'Quantity')\n",
        "plt.title('Sales Forecasting');"
      ],
      "execution_count": 208,
      "outputs": [
        {
          "output_type": "stream",
          "text": [
            "INFO:fbprophet:Disabling yearly seasonality. Run prophet with yearly_seasonality=True to override this.\n",
            "INFO:fbprophet:Disabling daily seasonality. Run prophet with daily_seasonality=True to override this.\n"
          ],
          "name": "stderr"
        },
        {
          "output_type": "stream",
          "text": [
            "            ds      trend  ...  multiplicative_terms_upper       yhat\n",
            "0   2010-12-01  29.357609  ...                         0.0  32.529311\n",
            "1   2010-12-02  29.353867  ...                         0.0  35.005152\n",
            "2   2010-12-03  29.350126  ...                         0.0  26.036932\n",
            "3   2010-12-05  29.342642  ...                         0.0  17.200264\n",
            "4   2010-12-06  29.338901  ...                         0.0  25.783633\n",
            "..         ...        ...  ...                         ...        ...\n",
            "295 2012-01-01  28.371448  ...                         0.0  16.229070\n",
            "296 2012-02-01  28.330033  ...                         0.0  31.501736\n",
            "297 2012-03-01  28.291291  ...                         0.0  33.942576\n",
            "298 2012-04-01  28.249877  ...                         0.0  16.107499\n",
            "299 2012-05-01  28.209798  ...                         0.0  34.089586\n",
            "\n",
            "[300 rows x 16 columns]\n"
          ],
          "name": "stdout"
        },
        {
          "output_type": "display_data",
          "data": {
            "text/plain": [
              "<Figure size 1296x432 with 0 Axes>"
            ]
          },
          "metadata": {
            "tags": []
          }
        },
        {
          "output_type": "display_data",
          "data": {
            "image/png": "[encoded data removed]",
            "text/plain": [
              "<Figure size 720x432 with 1 Axes>"
            ]
          },
          "metadata": {
            "tags": []
          }
        }
      ]
    }
  ]
}